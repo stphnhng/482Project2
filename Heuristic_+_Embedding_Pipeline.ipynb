{
  "nbformat": 4,
  "nbformat_minor": 0,
  "metadata": {
    "colab": {
      "name": "Heuristic + Embedding-Pipeline.ipynb",
      "provenance": [],
      "collapsed_sections": [
        "EIaEpSUWZL24"
      ],
      "toc_visible": true,
      "include_colab_link": true
    },
    "kernelspec": {
      "name": "python3",
      "display_name": "Python 3"
    }
  },
  "cells": [
    {
      "cell_type": "markdown",
      "metadata": {
        "id": "view-in-github",
        "colab_type": "text"
      },
      "source": [
        "<a href=\"https://colab.research.google.com/github/stphnhng/482Project2/blob/master/Heuristic_%2B_Embedding_Pipeline.ipynb\" target=\"_parent\"><img src=\"https://colab.research.google.com/assets/colab-badge.svg\" alt=\"Open In Colab\"/></a>"
      ]
    },
    {
      "cell_type": "code",
      "metadata": {
        "colab_type": "code",
        "id": "lVjNK8shFKOC",
        "colab": {}
      },
      "source": [
        "%%capture\n",
        "# Install the latest Tensorflow version.\n",
        "!pip3 install --upgrade tensorflow-gpu\n",
        "# Install TF-Hub.\n",
        "!pip3 install tensorflow-hub\n",
        "!pip3 install seaborn\n",
        "\n",
        "#!mkdir encoder\n",
        "#!curl -Lo encoder/infersent1.pkl https://dl.fbaipublicfiles.com/infersent/infersent1.pkl\n",
        "#!curl -Lo encoder/infersent2.pkl https://dl.fbaipublicfiles.com/infersent/infersent2.pkl"
      ],
      "execution_count": 0,
      "outputs": []
    },
    {
      "cell_type": "code",
      "metadata": {
        "colab_type": "code",
        "id": "zwty8Z6mAkdV",
        "outputId": "99300785-9a67-4402-99bf-f27eb7956316",
        "colab": {
          "base_uri": "https://localhost:8080/",
          "height": 34
        }
      },
      "source": [
        "#@title Load the Universal Sentence Encoder's TF Hub module\n",
        "from absl import logging\n",
        "\n",
        "import json\n",
        "import tensorflow as tf\n",
        "import tensorflow_hub as hub\n",
        "import matplotlib.pyplot as plt\n",
        "import numpy as np\n",
        "import os\n",
        "import pandas as pd\n",
        "import re\n",
        "import seaborn as sns\n",
        "from nltk.tokenize import sent_tokenize\n",
        "\n",
        "module_url = \"https://tfhub.dev/google/universal-sentence-encoder/4\" #@param [\"https://tfhub.dev/google/universal-sentence-encoder/4\", \"https://tfhub.dev/google/universal-sentence-encoder-large/5\"]\n",
        "model = hub.load(module_url)\n",
        "print (\"module %s loaded\" % module_url)\n",
        "def embed(input):\n",
        "  return model(input)"
      ],
      "execution_count": 2,
      "outputs": [
        {
          "output_type": "stream",
          "text": [
            "module https://tfhub.dev/google/universal-sentence-encoder/4 loaded\n"
          ],
          "name": "stdout"
        }
      ]
    },
    {
      "cell_type": "code",
      "metadata": {
        "id": "ieTu-Q3yfNKc",
        "colab_type": "code",
        "outputId": "6833d8dd-df8e-48bc-80ea-58a34f55071d",
        "colab": {
          "base_uri": "https://localhost:8080/",
          "height": 187
        }
      },
      "source": [
        "import nltk\n",
        "nltk.download('punkt')\n",
        "nltk.download('stopwords')\n",
        "nltk.download('averaged_perceptron_tagger')\n",
        "nltk.download('wordnet')\n",
        "from nltk.corpus import stopwords\n",
        "from nltk.corpus import wordnet"
      ],
      "execution_count": 38,
      "outputs": [
        {
          "output_type": "stream",
          "text": [
            "[nltk_data] Downloading package punkt to /root/nltk_data...\n",
            "[nltk_data]   Package punkt is already up-to-date!\n",
            "[nltk_data] Downloading package stopwords to /root/nltk_data...\n",
            "[nltk_data]   Package stopwords is already up-to-date!\n",
            "[nltk_data] Downloading package averaged_perceptron_tagger to\n",
            "[nltk_data]     /root/nltk_data...\n",
            "[nltk_data]   Package averaged_perceptron_tagger is already up-to-\n",
            "[nltk_data]       date!\n",
            "[nltk_data] Downloading package wordnet to /root/nltk_data...\n",
            "[nltk_data]   Unzipping corpora/wordnet.zip.\n"
          ],
          "name": "stdout"
        }
      ]
    },
    {
      "cell_type": "code",
      "metadata": {
        "id": "OqB_2id4gDE7",
        "colab_type": "code",
        "outputId": "f4db1a6f-0a43-4512-b441-75a37068a702",
        "colab": {
          "base_uri": "https://localhost:8080/",
          "height": 241
        }
      },
      "source": [
        "import spacy\n",
        "!python -m spacy download en_core_web_lg"
      ],
      "execution_count": 4,
      "outputs": [
        {
          "output_type": "stream",
          "text": [
            "Collecting en_core_web_lg==2.1.0\n",
            "\u001b[?25l  Downloading https://github.com/explosion/spacy-models/releases/download/en_core_web_lg-2.1.0/en_core_web_lg-2.1.0.tar.gz (826.9MB)\n",
            "\u001b[K     |████████████████████████████████| 826.9MB 1.3MB/s \n",
            "\u001b[?25hBuilding wheels for collected packages: en-core-web-lg\n",
            "  Building wheel for en-core-web-lg (setup.py) ... \u001b[?25l\u001b[?25hdone\n",
            "  Created wheel for en-core-web-lg: filename=en_core_web_lg-2.1.0-cp36-none-any.whl size=828255078 sha256=e47ca0a2e8745ac74f36b3dfb9ad87b417ed591d9a67c73fe77849da8328ce7d\n",
            "  Stored in directory: /tmp/pip-ephem-wheel-cache-lb5o4ekq/wheels/b4/d7/70/426d313a459f82ed5e06cc36a50e2bb2f0ec5cb31d8e0bdf09\n",
            "Successfully built en-core-web-lg\n",
            "Installing collected packages: en-core-web-lg\n",
            "Successfully installed en-core-web-lg-2.1.0\n",
            "\u001b[38;5;2m✔ Download and installation successful\u001b[0m\n",
            "You can now load the model via spacy.load('en_core_web_lg')\n"
          ],
          "name": "stdout"
        }
      ]
    },
    {
      "cell_type": "code",
      "metadata": {
        "id": "lfD0xxongHEO",
        "colab_type": "code",
        "colab": {}
      },
      "source": [
        "import en_core_web_lg\n",
        "nlp = en_core_web_lg.load() "
      ],
      "execution_count": 0,
      "outputs": []
    },
    {
      "cell_type": "code",
      "metadata": {
        "id": "zzQcEW3TnFpT",
        "colab_type": "code",
        "outputId": "b24b6d86-eb8f-4ac4-e010-31e6ef847677",
        "colab": {
          "base_uri": "https://localhost:8080/",
          "height": 122
        }
      },
      "source": [
        "from google.colab import drive\n",
        "drive.mount('/content/drive')"
      ],
      "execution_count": 6,
      "outputs": [
        {
          "output_type": "stream",
          "text": [
            "Go to this URL in a browser: https://accounts.google.com/o/oauth2/auth?client_id=947318989803-6bn6qk8qdgf4n4g3pfee6491hc0brc4i.apps.googleusercontent.com&redirect_uri=urn%3aietf%3awg%3aoauth%3a2.0%3aoob&response_type=code&scope=email%20https%3a%2f%2fwww.googleapis.com%2fauth%2fdocs.test%20https%3a%2f%2fwww.googleapis.com%2fauth%2fdrive%20https%3a%2f%2fwww.googleapis.com%2fauth%2fdrive.photos.readonly%20https%3a%2f%2fwww.googleapis.com%2fauth%2fpeopleapi.readonly\n",
            "\n",
            "Enter your authorization code:\n",
            "··········\n",
            "Mounted at /content/drive\n"
          ],
          "name": "stdout"
        }
      ]
    },
    {
      "cell_type": "code",
      "metadata": {
        "colab_type": "code",
        "id": "suEn7bSQebWp",
        "colab": {}
      },
      "source": [
        "def read_json(file):\n",
        "  with open(file, 'r') as fp:\n",
        "    return json.loads(fp.read())"
      ],
      "execution_count": 0,
      "outputs": []
    },
    {
      "cell_type": "code",
      "metadata": {
        "colab_type": "code",
        "id": "gGEkKEoBebWv",
        "colab": {}
      },
      "source": [
        "# Read in the data\n",
        "data = read_json(\"/content/drive/My Drive/data_wInfo.json\")\n",
        "qa = read_json(\"/content/drive/My Drive/cp_alexa_qa.json\")\n",
        "generated_qa = read_json(\"/content/drive/My Drive/generated_qa.json\")"
      ],
      "execution_count": 0,
      "outputs": []
    },
    {
      "cell_type": "code",
      "metadata": {
        "id": "g5t31uEmfY6p",
        "colab_type": "code",
        "colab": {}
      },
      "source": [
        "stop_words = stopwords.words('english')"
      ],
      "execution_count": 0,
      "outputs": []
    },
    {
      "cell_type": "code",
      "metadata": {
        "id": "4_8vVS3fRBzp",
        "colab_type": "code",
        "colab": {}
      },
      "source": [
        "def parse_content(data):\n",
        "  sentences = []\n",
        "  outputs = []\n",
        "  for section, content in data.items():\n",
        "    if content['content'] != '':\n",
        "      sent_toke = sent_tokenize(content['content'])\n",
        "      for index, sent in enumerate(sent_toke):\n",
        "        if sent == 'The W.K.':\n",
        "          sent_toke[index+1] = sent + sent_toke[index+1]\n",
        "        elif sent == 'Alumni include Abel Maldonado, Former California Lt.':\n",
        "          sent_toke[index+1] = sent + sent_toke[index+1]\n",
        "        else:\n",
        "          word_list = nltk.word_tokenize(sent)\n",
        "          output = [w for w in word_list if not w in stop_words]\n",
        "          outputs.append(' '.join(output))\n",
        "          sentences.append(sent)\n",
        "  return sentences, outputs"
      ],
      "execution_count": 0,
      "outputs": []
    },
    {
      "cell_type": "code",
      "metadata": {
        "colab_type": "code",
        "id": "GSBph_kXd3-3",
        "colab": {}
      },
      "source": [
        "sentences, outputs = parse_content(data)"
      ],
      "execution_count": 0,
      "outputs": []
    },
    {
      "cell_type": "code",
      "metadata": {
        "id": "Chd-z2BYk0vd",
        "colab_type": "code",
        "colab": {}
      },
      "source": [
        "for question in generated_qa:\n",
        "    answer = generated_qa[question]\n",
        "    if answer not in sentences:\n",
        "        sentences.append(answer)"
      ],
      "execution_count": 0,
      "outputs": []
    },
    {
      "cell_type": "code",
      "metadata": {
        "id": "zNyZWqDFLgLj",
        "colab_type": "code",
        "colab": {}
      },
      "source": [
        "sents = []\n",
        "for k in sentences:\n",
        "  tok = nltk.word_tokenize(k.lower())\n",
        "  ot = [word for word in tok if 'cal' not in word  and 'poly' not in word]\n",
        "  sents.append(' '.join(ot))"
      ],
      "execution_count": 0,
      "outputs": []
    },
    {
      "cell_type": "code",
      "metadata": {
        "id": "iwyWKD3tOFcv",
        "colab_type": "code",
        "colab": {}
      },
      "source": [
        "sents.remove('official website athletics website',)"
      ],
      "execution_count": 0,
      "outputs": []
    },
    {
      "cell_type": "code",
      "metadata": {
        "colab_type": "code",
        "id": "2Rh7HRljd3-6",
        "colab": {}
      },
      "source": [
        "sentences_embeddings = embed(sents)"
      ],
      "execution_count": 0,
      "outputs": []
    },
    {
      "cell_type": "code",
      "metadata": {
        "colab_type": "code",
        "id": "7flqVMjGd3-9",
        "colab": {}
      },
      "source": [
        "outputs_embeddings = embed(outputs)"
      ],
      "execution_count": 0,
      "outputs": []
    },
    {
      "cell_type": "code",
      "metadata": {
        "colab_type": "code",
        "id": "V0wfD4MId3-_",
        "colab": {}
      },
      "source": [
        "def cos_sim(A, B):\n",
        "  return np.dot(A, B) / (np.linalg.norm(A) * np.linalg.norm(B))"
      ],
      "execution_count": 0,
      "outputs": []
    },
    {
      "cell_type": "code",
      "metadata": {
        "id": "snkcORIGlf3O",
        "colab_type": "code",
        "colab": {}
      },
      "source": [
        "def match_generated(query):\n",
        "    qa_generated_qs = list(generated_qa.items())\n",
        "    most_similar_ans = \"\"\n",
        "    most_similar_num = 0.0\n",
        "    for q,answer in qa_generated_qs:\n",
        "        removed_stopwords = [word for word in nltk.word_tokenize(q) if word not in stop_words]\n",
        "        q = ' '.join(removed_stopwords)\n",
        "        sim = nlp(query).similarity(nlp(q))\n",
        "        if sim >= 0.75 and sim > most_similar_num:\n",
        "            most_similar_ans = answer\n",
        "            most_similar_num = sim\n",
        "    return most_similar_num, most_similar_ans"
      ],
      "execution_count": 0,
      "outputs": []
    },
    {
      "cell_type": "code",
      "metadata": {
        "id": "e3DUbvO6nihg",
        "colab_type": "code",
        "colab": {}
      },
      "source": [
        "def match_qa(query):\n",
        "    qa_infobox_qs = list(qa.items())[:68] # >68 are infobox questions\n",
        "    most_similar_ans = \"\"\n",
        "    most_similar_num = 0.0\n",
        "    for q,answer in qa_infobox_qs:\n",
        "        removed_stopwords = [word for word in nltk.word_tokenize(q) if word not in stop_words]\n",
        "        q = ' '.join(removed_stopwords)\n",
        "        sim = nlp(query).similarity(nlp(q))\n",
        "        if sim >= 0.75 and sim > most_similar_num:\n",
        "            most_similar_ans = answer\n",
        "            most_similar_num = sim\n",
        "    return most_similar_num, most_similar_ans"
      ],
      "execution_count": 0,
      "outputs": []
    },
    {
      "cell_type": "code",
      "metadata": {
        "id": "EDi6OpVMfcPB",
        "colab_type": "code",
        "colab": {}
      },
      "source": [
        "def match_infobox(query):\n",
        "    qa_infobox_qs = list(qa.items())[68:] # >68 are infobox questions\n",
        "    most_similar_ans = \"\"\n",
        "    most_similar_num = 0.0\n",
        "    for q,answer in qa_infobox_qs:\n",
        "        removed_stopwords = [word for word in nltk.word_tokenize(q) if word not in stop_words]\n",
        "        q = ' '.join(removed_stopwords)\n",
        "        sim = nlp(query).similarity(nlp(q))\n",
        "        if sim >= 0.75 and sim > most_similar_num:\n",
        "            most_similar_ans = answer\n",
        "            most_similar_num = sim\n",
        "    return most_similar_num, most_similar_ans"
      ],
      "execution_count": 0,
      "outputs": []
    },
    {
      "cell_type": "code",
      "metadata": {
        "colab_type": "code",
        "id": "QnsPpSZ0d3_E",
        "colab": {}
      },
      "source": [
        "def find_sent_index(query, sentences_embeddings, min_sent_sim,  qa_match, info_match, gen_match):\n",
        "  query_embedding = embed([query])\n",
        "  max_sim_index = 0\n",
        "  max_sim = -1\n",
        "  sim_list = []\n",
        "  for index, embedding in enumerate(sentences_embeddings):\n",
        "    current_sim = cos_sim(query_embedding, embedding)[0]\n",
        "    sim_list.append((index, current_sim))\n",
        "    if current_sim > max_sim:\n",
        "      max_sim = current_sim\n",
        "      max_sim_index = index\n",
        "  sim_list.sort(key=lambda x: x[1], reverse=True)\n",
        "  if max_sim < min_sent_sim:\n",
        "    qa_q_sim, qa_q = match_qa(query)\n",
        "    # if qa_q_sim >= qa_match:\n",
        "    #   print('qa_match')\n",
        "    #   return -1, qa_q\n",
        "    info_sim, info_q = match_infobox(query)\n",
        "    if info_sim >= info_match:\n",
        "      print(info_sim)\n",
        "      print('info_match')\n",
        "      return -1, info_q\n",
        "    q_sim, generated_q = match_generated(query)\n",
        "    if q_sim >= gen_match:\n",
        "      print('generated_q match')\n",
        "      return -1, generated_q\n",
        "  return max_sim_index, sim_list"
      ],
      "execution_count": 0,
      "outputs": []
    },
    {
      "cell_type": "code",
      "metadata": {
        "id": "N6dKxJfPeSFx",
        "colab_type": "code",
        "outputId": "8337fe5d-1f43-4f1f-d9d6-baffe63bb7ae",
        "colab": {
          "base_uri": "https://localhost:8080/",
          "height": 71
        }
      },
      "source": [
        "query = \"Who is Ian Atol?\"\n",
        "index, scores = find_sent_index(query, sentences_embeddings, 0.3, 0.5, 0.8, 0.8)\n",
        "if index == -1:\n",
        "    print(scores)\n",
        "else:\n",
        "    top_sents = [nlp(sentences[i]) for i,score in scores[0:5]]\n",
        "    embeddingResult = sentences[index]\n",
        "    keywordResult = keywordExtractor(query, top_sents)\n",
        "    embeddingSimilarity = nlp(query).similarity(nlp(embeddingResult))\n",
        "    keywordSimilarity = nlp(query).similarity(nlp(keywordResult))\n",
        "    ultimateResult = \"\"\n",
        "    if embeddingSimilarity > keywordSimilarity:\n",
        "        ultimateResult = embeddingResult\n",
        "    else:\n",
        "        ultimateResult = keywordResult\n",
        "    print(ultimateResult)"
      ],
      "execution_count": 85,
      "outputs": [
        {
          "output_type": "stream",
          "text": [
            "qa_match\n",
            "The live mascot, a living mustang, is named Chase, after Margaret Chase, the university's second president.\n"
          ],
          "name": "stdout"
        }
      ]
    },
    {
      "cell_type": "markdown",
      "metadata": {
        "id": "M-Ropqo7aYr6",
        "colab_type": "text"
      },
      "source": [
        "# Adding Keyword Extraction"
      ]
    },
    {
      "cell_type": "code",
      "metadata": {
        "id": "PIkwyeV5PBk5",
        "colab_type": "code",
        "colab": {}
      },
      "source": [
        "generalized_pos = ['CC', 'CD', 'DT', 'EX', 'FW', 'IN', 'JJ', 'LS', 'MD', 'NN', 'PDT', 'POS',\n",
        "   'PRP', 'RB', 'RP', 'SYM', 'TO', 'UH', 'VB', 'WDT', 'WP', 'WRB','SBAR', 'SINV', 'SQ', \n",
        "   'ADJP', 'ADVP', 'CONJP', 'FRAG', 'INTJ', 'LST', \n",
        "   'NAC', 'NP', 'NX', 'PP', 'PRN', 'PRT', 'QP', 'RRC', 'UCP', 'VP', 'WHADJP', 'WHADVP', 'WHNP', \n",
        "   'WHPP', 'X', 'S']\n",
        "def getGeneralVersion(specific):\n",
        "   if specific in generalized_pos:\n",
        "      return specific\n",
        "   for generalized in generalized_pos: \n",
        "      if generalized in specific:\n",
        "         return generalized\n",
        "   return specific"
      ],
      "execution_count": 0,
      "outputs": []
    },
    {
      "cell_type": "code",
      "metadata": {
        "id": "l9A0DyPkcSDt",
        "colab_type": "code",
        "colab": {}
      },
      "source": [
        "def keywordExtractor(query, topSents):\n",
        "    # POS tag\n",
        "    samp_str = nltk.pos_tag(nltk.word_tokenize(query))\n",
        "    # Remove symbols and Cal Poly\n",
        "    samp_str = [word+\"_\"+getGeneralVersion(tag) for word,tag in samp_str if tag != '.' and tag != 'WRB' and word != \"Cal\" and word != \"Poly\"]\n",
        "\n",
        "    # Remove stopwords\n",
        "    new_str = set()\n",
        "    for word in samp_str:\n",
        "        raw_word = word.split(\"_\")[0]\n",
        "        raw_tag = word.split(\"_\")[1]\n",
        "        if raw_word not in nlp.Defaults.stop_words:\n",
        "            new_str.add(word)\n",
        "            new_str.add(nlp(raw_word)[0].lemma_ + \"_\" + getGeneralVersion(raw_tag))\n",
        "    # Adding synsets?\n",
        "    for item in new_str:\n",
        "        word = item.split(\"_\")[0]\n",
        "        tag = item.split(\"_\")[1]\n",
        "        word_syn = set()\n",
        "        for syn in wordnet.synsets(word):\n",
        "            word_syn.add(syn.name().split(\".\")[0] + \"_\" + tag)\n",
        "            word_syn.add(nlp(word)[0].lemma_ + \"_\" + tag)\n",
        "    # Add synonyms to word set for query\n",
        "    for item in word_syn:\n",
        "        new_str.add(item)\n",
        "    keyword_top_sents = {}\n",
        "    for nlp_sent in topSents:\n",
        "        raw_sent = nlp_sent.text\n",
        "        tokenized_pos = set()\n",
        "        for word,tag in nltk.pos_tag(nltk.word_tokenize(raw_sent)):\n",
        "            # TODO: change WRB to fit all Wh-Terms\n",
        "            if tag != '.' and tag != 'WRB' and word != \"Cal\" and word != \"Poly\":\n",
        "                # tokenized_pos.add(word+\"_\"+getGeneralVersion(tag))\n",
        "                tokenized_pos.add(nlp(word)[0].lemma_ + \"_\" + getGeneralVersion(tag))\n",
        "        keyword_top_sents[raw_sent] = tokenized_pos.intersection(new_str)\n",
        "    for sent in {k: v for k, v in sorted(keyword_top_sents.items(), key=lambda item: item[1], reverse=1)}:\n",
        "        return sent\n",
        "        # print(len(keyword_top_sents[sent]), keyword_top_sents[sent], sent)"
      ],
      "execution_count": 0,
      "outputs": []
    },
    {
      "cell_type": "code",
      "metadata": {
        "id": "CPBl13oCYPur",
        "colab_type": "code",
        "outputId": "c8d85139-412a-4ecf-877e-7c4116eaf6f1",
        "colab": {
          "base_uri": "https://localhost:8080/",
          "height": 34
        }
      },
      "source": [
        "# POS tag\n",
        "samp_str = nltk.pos_tag(nltk.word_tokenize(\"when were the red bricks completed ?\"))\n",
        "# Remove symbols and Cal Poly\n",
        "samp_str = [word+\"_\"+getGeneralVersion(tag) for word,tag in samp_str if tag != '.' and tag != 'WRB' and word != \"Cal\" and word != \"Poly\"]\n",
        "\n",
        "# Remove stopwords\n",
        "new_str = set()\n",
        "for word in samp_str:\n",
        "    raw_word = word.split(\"_\")[0]\n",
        "    raw_tag = word.split(\"_\")[1]\n",
        "    if raw_word not in nlp.Defaults.stop_words:\n",
        "        new_str.add(word)\n",
        "        new_str.add(nlp(raw_word)[0].lemma_ + \"_\" + getGeneralVersion(raw_tag))\n",
        "\n",
        "print(new_str)\n",
        "# Apply stemming to match dictionary index terms (this doesn't exist for now)"
      ],
      "execution_count": 58,
      "outputs": [
        {
          "output_type": "stream",
          "text": [
            "{'bricks_NN', 'complete_VB', 'red_JJ', 'completed_VB', 'brick_NN'}\n"
          ],
          "name": "stdout"
        }
      ]
    },
    {
      "cell_type": "code",
      "metadata": {
        "id": "ufbYBIFke1xA",
        "colab_type": "code",
        "colab": {}
      },
      "source": [
        "# Adding synsets?\n",
        "for item in new_str:\n",
        "    word = item.split(\"_\")[0]\n",
        "    tag = item.split(\"_\")[1]\n",
        "    word_syn = set()\n",
        "    for syn in wordnet.synsets(word):\n",
        "        word_syn.add(syn.name().split(\".\")[0] + \"_\" + tag)\n",
        "        word_syn.add(nlp(word)[0].lemma_ + \"_\" + tag)"
      ],
      "execution_count": 0,
      "outputs": []
    },
    {
      "cell_type": "code",
      "metadata": {
        "id": "t6ZAcQ3PgnZw",
        "colab_type": "code",
        "colab": {}
      },
      "source": [
        "# Add synonyms to word set for query\n",
        "for item in word_syn:\n",
        "    new_str.add(item)"
      ],
      "execution_count": 0,
      "outputs": []
    },
    {
      "cell_type": "code",
      "metadata": {
        "id": "gpsiIUgsaX2t",
        "colab_type": "code",
        "colab": {}
      },
      "source": [
        "keyword_top_sents = {}\n",
        "for nlp_sent in top_sents:\n",
        "    raw_sent = nlp_sent.text\n",
        "    tokenized_pos = set()\n",
        "    for word,tag in nltk.pos_tag(nltk.word_tokenize(raw_sent)):\n",
        "        # TODO: change WRB to fit all Wh-Terms\n",
        "        if tag != '.' and tag != 'WRB' and word != \"Cal\" and word != \"Poly\":\n",
        "            # tokenized_pos.add(word+\"_\"+getGeneralVersion(tag))\n",
        "            tokenized_pos.add(nlp(word)[0].lemma_ + \"_\" + getGeneralVersion(tag))\n",
        "    keyword_top_sents[raw_sent] = tokenized_pos.intersection(new_str)"
      ],
      "execution_count": 0,
      "outputs": []
    },
    {
      "cell_type": "code",
      "metadata": {
        "id": "LFEo2nXdc32Y",
        "colab_type": "code",
        "outputId": "a3fa0299-de8a-4423-d2e5-8f2f1a5b2d99",
        "colab": {
          "base_uri": "https://localhost:8080/",
          "height": 122
        }
      },
      "source": [
        "for sent in {k: v for k, v in sorted(keyword_top_sents.items(), key=lambda item: item[1], reverse=1)}:\n",
        "    print(len(keyword_top_sents[sent]), keyword_top_sents[sent], sent)\n",
        "# TODO: lemmatize all word b/c comparison won't work for tenses"
      ],
      "execution_count": 62,
      "outputs": [
        {
          "output_type": "stream",
          "text": [
            "2 {'red_JJ', 'complete_VB'} The six \"red-brick\" halls were completed shortly afterward in 1959.\n",
            "1 {'complete_VB'} The Sierra Madre and Yosemite halls were finished by 1968, and the Cerro Vista Apartments were completed in 2003.\n",
            "0 set() Loans comprised 55.6% of the financial aid, 31.2% came in the form of grants, and 10.2% in scholarships.\n",
            "0 set() The state legislature changed the school's official name again in 1971 to California Polytechnic State University, and since the 1970s the university has seen steady enrollment growth and building construction.\n",
            "0 set() Cal Poly has two mascots.\n"
          ],
          "name": "stdout"
        }
      ]
    },
    {
      "cell_type": "markdown",
      "metadata": {
        "id": "EIaEpSUWZL24",
        "colab_type": "text"
      },
      "source": [
        "# Optimization Stuff"
      ]
    },
    {
      "cell_type": "code",
      "metadata": {
        "id": "RqKMuK5Bjlih",
        "colab_type": "code",
        "colab": {}
      },
      "source": [
        "import numpy as np"
      ],
      "execution_count": 0,
      "outputs": []
    },
    {
      "cell_type": "code",
      "metadata": {
        "id": "TKWHuJMCNvmM",
        "colab_type": "code",
        "colab": {}
      },
      "source": [
        "pos_scores = slice(0.3, 0.9, 0.3)"
      ],
      "execution_count": 0,
      "outputs": []
    },
    {
      "cell_type": "code",
      "metadata": {
        "id": "SNZmmT7aNzph",
        "colab_type": "code",
        "colab": {}
      },
      "source": [
        "from scipy.optimize import minimize, fmin, brute"
      ],
      "execution_count": 0,
      "outputs": []
    },
    {
      "cell_type": "code",
      "metadata": {
        "id": "XhxAcq0EKU4W",
        "colab_type": "code",
        "colab": {
          "base_uri": "https://localhost:8080/",
          "height": 0
        },
        "outputId": "fd61399e-729b-4630-8b39-09a424f8aeb3"
      },
      "source": [
        "from sklearn.model_selection import train_test_split\n",
        "X_train, X_test, y_train, y_test = train_test_split(X, y, test_size=0.33, random_state=42)"
      ],
      "execution_count": 26,
      "outputs": [
        {
          "output_type": "error",
          "ename": "NameError",
          "evalue": "ignored",
          "traceback": [
            "\u001b[0;31m---------------------------------------------------------------------------\u001b[0m",
            "\u001b[0;31mNameError\u001b[0m                                 Traceback (most recent call last)",
            "\u001b[0;32m<ipython-input-26-17290fa3c848>\u001b[0m in \u001b[0;36m<module>\u001b[0;34m()\u001b[0m\n\u001b[1;32m      1\u001b[0m \u001b[0;32mfrom\u001b[0m \u001b[0msklearn\u001b[0m\u001b[0;34m.\u001b[0m\u001b[0mmodel_selection\u001b[0m \u001b[0;32mimport\u001b[0m \u001b[0mtrain_test_split\u001b[0m\u001b[0;34m\u001b[0m\u001b[0;34m\u001b[0m\u001b[0m\n\u001b[0;32m----> 2\u001b[0;31m \u001b[0mX_train\u001b[0m\u001b[0;34m,\u001b[0m \u001b[0mX_test\u001b[0m\u001b[0;34m,\u001b[0m \u001b[0my_train\u001b[0m\u001b[0;34m,\u001b[0m \u001b[0my_test\u001b[0m \u001b[0;34m=\u001b[0m \u001b[0mtrain_test_split\u001b[0m\u001b[0;34m(\u001b[0m\u001b[0mX\u001b[0m\u001b[0;34m,\u001b[0m \u001b[0my\u001b[0m\u001b[0;34m,\u001b[0m \u001b[0mtest_size\u001b[0m\u001b[0;34m=\u001b[0m\u001b[0;36m0.33\u001b[0m\u001b[0;34m,\u001b[0m \u001b[0mrandom_state\u001b[0m\u001b[0;34m=\u001b[0m\u001b[0;36m42\u001b[0m\u001b[0;34m)\u001b[0m\u001b[0;34m\u001b[0m\u001b[0;34m\u001b[0m\u001b[0m\n\u001b[0m",
            "\u001b[0;31mNameError\u001b[0m: name 'X' is not defined"
          ]
        }
      ]
    },
    {
      "cell_type": "code",
      "metadata": {
        "id": "QLHPAMjBOIJX",
        "colab_type": "code",
        "colab": {}
      },
      "source": [
        "def fun_sim(params):\n",
        "  print('************')\n",
        "  print(\"params: \", *params)\n",
        "  matches = 0\n",
        "  total = len(qa)\n",
        "  for i, (qs, ans) in enumerate(qa.items()):\n",
        "    index, scores = find_sent_index(qs, sentences_embeddings, *params)\n",
        "    if index == -1:\n",
        "      sent = scores\n",
        "    else:\n",
        "      sent = sentences[index]\n",
        "    if sent == ans:\n",
        "      #print(\"Match\")\n",
        "      matches += 1\n",
        "    #print(\"---------------\")\n",
        "    if i % 20 == 0 and i != 0:\n",
        "      print(\"done: \", i)\n",
        "  print('done: ', matches/total)\n",
        "  return 1 - matches/total"
      ],
      "execution_count": 0,
      "outputs": []
    },
    {
      "cell_type": "code",
      "metadata": {
        "id": "Y1D1_xzUPZu8",
        "colab_type": "code",
        "colab": {}
      },
      "source": [
        "result = minimize(fun_sim, [0.3, 0.5, 0.5, 0.5], method='Nelder-Mead')"
      ],
      "execution_count": 0,
      "outputs": []
    },
    {
      "cell_type": "code",
      "metadata": {
        "id": "WllSUSYlR1Wr",
        "colab_type": "code",
        "colab": {}
      },
      "source": [
        "resbrute = brute(fun_sim, (pos_scores, pos_scores, pos_scores, pos_scores),\n",
        "                          full_output=True, finish=fmin, workers=-1)"
      ],
      "execution_count": 0,
      "outputs": []
    },
    {
      "cell_type": "markdown",
      "metadata": {
        "id": "WyqzN4AtZN9k",
        "colab_type": "text"
      },
      "source": [
        "# Testing"
      ]
    },
    {
      "cell_type": "code",
      "metadata": {
        "id": "XXNQdJxXQTM-",
        "colab_type": "code",
        "colab": {}
      },
      "source": [
        "test_datv= {\n",
        "    'When did the state legislature change the school\\'s official name?': 'The state legislature changed the school\\'s official name again in 1971 to California Polytechnic State University, and since the 1970s the university has seen steady enrollment growth and building construction.',\n",
        "    'How many parking spaces does cal poly have?': 'In its most recent survey of available parking spaces on campus, the Cal Poly University Police reported 2,892 general purpose parking spaces, 3,492 dorm resident spaces, and 8,648 total spaces.',\n",
        "    'Does cal poly require students to declare a major before the start of their freshman year?': 'Cal Poly requires students to declare a major when applying for admission, and the university then admits the most competitive applicants within each major based on GPA and SAT or ACT scores.',\n",
        "    'When were the red bricks completed?' : 'The six \"red-brick\" halls were completed shortly afterward in 1959.',\n",
        "    'How good is cal poly for latino student success?' : 'The Los Angeles Times reported that the university \"was ranked one of the nation’s worst serving institutions for Latino student success.\"',\n",
        "    'Who is kristin smart?' : 'On May 25, 1996, Cal Poly student Kristin Smart disappeared without a trace after a birthday party.',\n",
        "    'What division does cal poly play college rugby in?' : 'The Mustangs play college rugby in the California conference of Division 1-A.',\n",
        "    'What percent of slo residents live below the poverty line?' : 'Approximately 27% of the residents live below the poverty line, a similar percentage to Cleveland, Ohio.',\n",
        "    'How much did poly canyon village cost?' : 'The Poly Canyon Village housing complex, with a similar style as the Cerro Vista apartments, was completed in 2009 at a cost of $300 million, making it the California State University system\\'s largest construction project to date.',\n",
        "    'How can you apply for a change of major, and what classes are required?':'Each major has a specific change of major plan which includes required classes to be taken while maintaining a certain GPA (usually between 2.5–2.75) in order to be considered as a candidate.',\n",
        "    'How racially diverse is the student population compared to other California State Universities?': 'As of 2018, Cal Poly San Luis Obispo has the least racially diverse student population of all California State University and University of California campuses, though it is still far more diverse than the surrounding community it serves.',\n",
        "    'What is the Week of Welcome program?' : 'The Week of Welcome program, more commonly known as \"WOW\", serves as a volunteer-based orientation program for new students during the first week after move-in during the beginning of the school year in September. Its purpose is to introduce students to the campus and the community and prepare them for a successful college career.',\n",
        "    'When were the Greek organizations started?' : 'Greek organizations have been at Cal Poly since 1949.',\n",
        "    'Which fraternity was suspended for wearing blackface?': 'In 2018, the Lambda Chi Alpha fraternity was suspended following a photo surfacing that showed a student wearing blackface.',\n",
        "    'How many housing spaces are available?' : 'Cal Poly\\'s on-campus student housing of 6,239 spaces',\n",
        "    'How much is the average student’s tuition fee?' : 'Fall 2011 fees for the average student reached approximately $2,600 per quarter.',\n",
        "    'What is the acceptance rate?' : 'For the class entering Fall 2018, 16,491 freshmen were accepted out of 54,663 applicants, a 30.2% acceptance rate, and 4,398 enrolled.',\n",
        "    'What is the bus system called?' : 'The city\\'s SLO Transit bus system provides service to and from campus.',\n",
        "    'What percent of freshmen live on campus?' : 'Cal Poly housed 35.9% of fall 2015 undergraduates in 28 dorms on campus, and 98.7% of first-time freshmen lived on campus.',\n",
        "    'When was Greek Life suspended?' : 'As of April 17, 2018, Greek Life has been suspended indefinitely by the university following a number of racial controversies, the most recent of which being the 2018 Cal Poly Blackface Incident.'\n",
        "}"
      ],
      "execution_count": 0,
      "outputs": []
    },
    {
      "cell_type": "code",
      "metadata": {
        "id": "8arJIkpJM-Rc",
        "colab_type": "code",
        "colab": {}
      },
      "source": [
        "om = {}\n",
        "for k,v in test_datv.items():\n",
        "  tok = nltk.word_tokenize(k.lower())\n",
        "  ot = [word for word in tok if 'cal' not in word  and 'poly' not in word]\n",
        "  om[' '.join(ot)] = v"
      ],
      "execution_count": 0,
      "outputs": []
    },
    {
      "cell_type": "code",
      "metadata": {
        "id": "Lf2x7TKzSSW4",
        "colab_type": "code",
        "outputId": "9c1d9a66-34a3-4732-881d-6178e1888692",
        "colab": {
          "base_uri": "https://localhost:8080/",
          "height": 1000
        }
      },
      "source": [
        "for q,a in om.items():\n",
        "    index, scores = find_sent_index(q, sentences_embeddings, *[0.35, 0.7, 0.8, 0.8])\n",
        "    query = q\n",
        "    sent = \"\"\n",
        "    if index == -1:\n",
        "        sent = scores\n",
        "        print(scores)\n",
        "    else:\n",
        "        top_sents = [nlp(sentences[i]) for i,score in scores[0:5]]\n",
        "        embeddingResult = sentences[index]\n",
        "        keywordResult = keywordExtractor(query, top_sents)\n",
        "        embeddingSimilarity = nlp(query).similarity(nlp(embeddingResult))\n",
        "        keywordSimilarity = nlp(query).similarity(nlp(keywordResult))\n",
        "        ultimateResult = \"\"\n",
        "        if embeddingSimilarity > keywordSimilarity:\n",
        "            ultimateResult = embeddingResult\n",
        "        else:\n",
        "            ultimateResult = keywordResult\n",
        "        sent = ultimateResult\n",
        "    print('**********')\n",
        "    print(\"Question: \", q)\n",
        "    print('Predicted: ', sent)\n",
        "    print('Actual: ', a)"
      ],
      "execution_count": 90,
      "outputs": [
        {
          "output_type": "stream",
          "text": [
            "**********\n",
            "Question:  when did the state legislature change the school 's official name ?\n",
            "Predicted:  The state legislature changed the school's official name again in 1971 to California Polytechnic State University, and since the 1970s the university has seen steady enrollment growth and building construction.\n",
            "Actual:  The state legislature changed the school's official name again in 1971 to California Polytechnic State University, and since the 1970s the university has seen steady enrollment growth and building construction.\n",
            "**********\n",
            "Question:  how many parking spaces does have ?\n",
            "Predicted:  In its most recent survey of available parking spaces on campus, the Cal Poly University Police reported 2,892 general purpose parking spaces, 3,492 dorm resident spaces, and 8,648 total spaces.\n",
            "Actual:  In its most recent survey of available parking spaces on campus, the Cal Poly University Police reported 2,892 general purpose parking spaces, 3,492 dorm resident spaces, and 8,648 total spaces.\n",
            "**********\n",
            "Question:  does require students to declare a major before the start of their freshman year ?\n",
            "Predicted:  Each major has a specific change of major plan which includes required classes to be taken while maintaining a certain GPA (usually between 2.5–2.75) in order to be considered as a candidate.\n",
            "Actual:  Cal Poly requires students to declare a major when applying for admission, and the university then admits the most competitive applicants within each major based on GPA and SAT or ACT scores.\n",
            "**********\n",
            "Question:  when were the red bricks completed ?\n",
            "Predicted:  The six \"red-brick\" halls were completed shortly afterward in 1959.\n",
            "Actual:  The six \"red-brick\" halls were completed shortly afterward in 1959.\n",
            "**********\n",
            "Question:  how good is for latino student success ?\n",
            "Predicted:  The Los Angeles Times reported that the university \"was ranked one of the nation’s worst serving institutions for Latino student success.\n",
            "Actual:  The Los Angeles Times reported that the university \"was ranked one of the nation’s worst serving institutions for Latino student success.\"\n",
            "**********\n",
            "Question:  who is kristin smart ?\n",
            "Predicted:  On May 25, 1996, Cal Poly student Kristin Smart disappeared without a trace after a birthday party.\n",
            "Actual:  On May 25, 1996, Cal Poly student Kristin Smart disappeared without a trace after a birthday party.\n",
            "**********\n",
            "Question:  what division does play college rugby in ?\n",
            "Predicted:  The Mustangs play college rugby in the California conference of Division 1-A.\n",
            "Actual:  The Mustangs play college rugby in the California conference of Division 1-A.\n",
            "**********\n",
            "Question:  what percent of slo residents live below the poverty line ?\n",
            "Predicted:  Approximately 27% of the residents live below the poverty line, a similar percentage to Cleveland, Ohio.\n",
            "Actual:  Approximately 27% of the residents live below the poverty line, a similar percentage to Cleveland, Ohio.\n",
            "**********\n",
            "Question:  how much did canyon village cost ?\n",
            "Predicted:  The Poly Canyon Village housing complex, with a similar style as the Cerro Vista apartments, was completed in 2009 at a cost of $300 million, making it the California State University system's largest construction project to date.\n",
            "Actual:  The Poly Canyon Village housing complex, with a similar style as the Cerro Vista apartments, was completed in 2009 at a cost of $300 million, making it the California State University system's largest construction project to date.\n",
            "**********\n",
            "Question:  how can you apply for a change of major , and what classes are required ?\n",
            "Predicted:  Each major has a specific change of major plan which includes required classes to be taken while maintaining a certain GPA (usually between 2.5–2.75) in order to be considered as a candidate.\n",
            "Actual:  Each major has a specific change of major plan which includes required classes to be taken while maintaining a certain GPA (usually between 2.5–2.75) in order to be considered as a candidate.\n",
            "**********\n",
            "Question:  how racially diverse is the student population compared to other state universities ?\n",
            "Predicted:  As of 2018, Cal Poly San Luis Obispo has the least racially diverse student population of all California State University and University of California campuses, though it is still far more diverse than the surrounding community it serves.\n",
            "Actual:  As of 2018, Cal Poly San Luis Obispo has the least racially diverse student population of all California State University and University of California campuses, though it is still far more diverse than the surrounding community it serves.\n",
            "**********\n",
            "Question:  what is the week of welcome program ?\n",
            "Predicted:  The Week of Welcome program, more commonly known as \"WOW\", serves as a volunteer-based orientation program for new students during the first week after move-in during the beginning of the school year in September.\n",
            "Actual:  The Week of Welcome program, more commonly known as \"WOW\", serves as a volunteer-based orientation program for new students during the first week after move-in during the beginning of the school year in September. Its purpose is to introduce students to the campus and the community and prepare them for a successful college career.\n",
            "**********\n",
            "Question:  when were the greek organizations started ?\n",
            "Predicted:  Greek organizations have been at Cal Poly since 1949.\n",
            "Actual:  Greek organizations have been at Cal Poly since 1949.\n",
            "**********\n",
            "Question:  which fraternity was suspended for wearing blackface ?\n",
            "Predicted:  In 2018, the Lambda Chi Alpha fraternity was suspended following a photo surfacing that showed a student wearing blackface.\n",
            "Actual:  In 2018, the Lambda Chi Alpha fraternity was suspended following a photo surfacing that showed a student wearing blackface.\n",
            "**********\n",
            "Question:  how many housing spaces are available ?\n",
            "Predicted:  In its most recent survey of available parking spaces on campus, the Cal Poly University Police reported 2,892 general purpose parking spaces, 3,492 dorm resident spaces, and 8,648 total spaces.\n",
            "Actual:  Cal Poly's on-campus student housing of 6,239 spaces\n",
            "**********\n",
            "Question:  how much is the average student ’ s tuition fee ?\n",
            "Predicted:  While total yearly fees for an in-state student were just $2,976 in 2002, students entering in fall 2011 faced an annual fee of over $7,900.Of the students enrolled in fall 2014, 61.6% of undergraduates and 70.0% of first-time freshmen received some form of financial aid in 2014–15.\n",
            "Actual:  Fall 2011 fees for the average student reached approximately $2,600 per quarter.\n",
            "**********\n",
            "Question:  what is the acceptance rate ?\n",
            "Predicted:  For the class entering Fall 2018, 16,491 freshmen were accepted out of 54,663 applicants, a 30.2% acceptance rate, and 4,398 enrolled.\n",
            "Actual:  For the class entering Fall 2018, 16,491 freshmen were accepted out of 54,663 applicants, a 30.2% acceptance rate, and 4,398 enrolled.\n",
            "**********\n",
            "Question:  what is the bus system ?\n",
            "Predicted:  The city's SLO Transit bus system provides service to and from campus.\n",
            "Actual:  The city's SLO Transit bus system provides service to and from campus.\n",
            "**********\n",
            "Question:  what percent of freshmen live on campus ?\n",
            "Predicted:  Cal Poly housed 35.9% of fall 2015 undergraduates in 28 dorms on campus, and 98.7% of first-time freshmen lived on campus.\n",
            "Actual:  Cal Poly housed 35.9% of fall 2015 undergraduates in 28 dorms on campus, and 98.7% of first-time freshmen lived on campus.\n",
            "**********\n",
            "Question:  when was greek life suspended ?\n",
            "Predicted:  In response to further protests, President Armstrong suspended all Greek Life on campus indefinitely.\n",
            "Actual:  As of April 17, 2018, Greek Life has been suspended indefinitely by the university following a number of racial controversies, the most recent of which being the 2018 Cal Poly Blackface Incident.\n"
          ],
          "name": "stdout"
        }
      ]
    },
    {
      "cell_type": "code",
      "metadata": {
        "id": "JX0ycRZ0Suma",
        "colab_type": "code",
        "colab": {}
      },
      "source": [
        ""
      ],
      "execution_count": 0,
      "outputs": []
    },
    {
      "cell_type": "markdown",
      "metadata": {
        "id": "rOod5sZglRtB",
        "colab_type": "text"
      },
      "source": [
        "## Test 2: QA questions - Hardcoded"
      ]
    },
    {
      "cell_type": "code",
      "metadata": {
        "colab_type": "code",
        "id": "P8yuAT9llTyw",
        "colab": {}
      },
      "source": [
        "om = {}\n",
        "for k,v in qa.items():\n",
        "  tok = nltk.word_tokenize(k)\n",
        "  ot = [word for word in tok if 'cal' not in word.lower()  and 'poly' not in word.lower()]\n",
        "  om[' '.join(ot)] = v"
      ],
      "execution_count": 0,
      "outputs": []
    },
    {
      "cell_type": "code",
      "metadata": {
        "colab_type": "code",
        "outputId": "ab7ba326-3b6b-4a1b-8de1-3238f77db7e8",
        "id": "2lO2thjalTy3",
        "colab": {
          "base_uri": "https://localhost:8080/",
          "height": 1000
        }
      },
      "source": [
        "for q,a in om.items():\n",
        "    index, scores = find_sent_index(q, sentences_embeddings, *[0.35, 0.7, 0.8, 0.8])\n",
        "    query = q\n",
        "    sent = \"\"\n",
        "    if index == -1:\n",
        "        sent = scores\n",
        "        print(scores)\n",
        "    else:\n",
        "        top_sents = [nlp(sentences[i]) for i,score in scores[0:5]]\n",
        "        embeddingResult = sentences[index]\n",
        "        keywordResult = keywordExtractor(query, top_sents)\n",
        "        embeddingSimilarity = nlp(query).similarity(nlp(embeddingResult))\n",
        "        keywordSimilarity = nlp(query).similarity(nlp(keywordResult))\n",
        "        ultimateResult = \"\"\n",
        "        if embeddingSimilarity > keywordSimilarity:\n",
        "            ultimateResult = embeddingResult\n",
        "        else:\n",
        "            ultimateResult = keywordResult\n",
        "        sent = ultimateResult\n",
        "    print('**********')\n",
        "    print(\"Question: \", q)\n",
        "    print('Predicted: ', sent)\n",
        "    print('Actual: ', a)"
      ],
      "execution_count": 97,
      "outputs": [
        {
          "output_type": "stream",
          "text": [
            "**********\n",
            "Question:  When was Founded ?\n",
            "Predicted:  The corporation was founded in 1940 and was known as the Cal Poly Foundation until February 1, 2006.\n",
            "Actual:  Cal Poly San Luis Obispo was established as the California Polytechnic School in 1901 when Governor Henry T. Gage signed the California Polytechnic School Bill after a campaign by journalist Myron Angel.\n",
            "generated_q match\n",
            "Cal Poly San Luis Obispo was established as the California Polytechnic School in 1901 when Governor Henry T. Gage signed the California Polytechnic School Bill after a campaign by journalist Myron Angel.\n",
            "**********\n",
            "Question:  Who founded ?\n",
            "Predicted:  Cal Poly San Luis Obispo was established as the California Polytechnic School in 1901 when Governor Henry T. Gage signed the California Polytechnic School Bill after a campaign by journalist Myron Angel.\n",
            "Actual:  Cal Poly San Luis Obispo was established as the California Polytechnic School in 1901 when Governor Henry T. Gage signed the California Polytechnic School Bill after a campaign by journalist Myron Angel.\n",
            "**********\n",
            "Question:  When did first have classes ?\n",
            "Predicted:  The polytechnic school held its first classes on October 1, 1903 to 20 students, offering secondary level courses of study, which took three years to complete.\n",
            "Actual:  The polytechnic school held its first classes on October 1, 1903 to 20 students, offering secondary level courses of study, which took three years to complete.\n",
            "0.8051396703987728\n",
            "info_match\n",
            "21,242 (Fall 2019)\n",
            "**********\n",
            "Question:  How many students did have in the beginning ?\n",
            "Predicted:  21,242 (Fall 2019)\n",
            "Actual:  The polytechnic school held its first classes on October 1, 1903 to 20 students, offering secondary level courses of study, which took three years to complete.\n",
            "**********\n",
            "Question:  Who controls ?\n",
            "Predicted:  Cal Poly has two mascots.\n",
            "Actual:  In 1960, control of Cal Poly San Luis Obispo and all other state colleges was transferred from the State Board of Education to an independent Board of Trustees, which later became the California State University system.\n",
            "**********\n",
            "Question:  What is Pomona ?\n",
            "Predicted:  Although Cal Poly San Luis Obispo is part of the California State University, its naming convention does not follow that of most campuses within the system (for example, the CSU campus in San Diego bears the full official name \"San Diego State University\" and the CSU campus in Fullerton uses the name \"California State University, Fullerton\").\n",
            "Actual:  Cal Poly Pomona began as a satellite campus of Cal Poly San Luis Obispo in 1938 when a completely equipped school and farm were donated by Charles Voorhis and his son Jerry Voorhis of Pasadena, California, and was initially called the Voorhis Unit.\n",
            "**********\n",
            "Question:  What was the 1960 football team plane crash ?\n",
            "Predicted:  On October 29, 1960, a chartered plane carrying the Cal Poly San Luis Obispo football team, hours after a loss to Bowling Green State University, crashed on takeoff at the Toledo Express Airport in Toledo, Ohio.\n",
            "Actual:  On October 29, 1960, a chartered plane carrying the Cal Poly San Luis Obispo football team, hours after a loss to Bowling Green State University, crashed on takeoff at the Toledo Express Airport in Toledo, Ohio. \n",
            "**********\n",
            "Question:  When were females accepted to ?\n",
            "Predicted:  In 1930, Cal Poly San Luis Obispo banned women from the entire school until 1956 when it once again began admitting female students.\n",
            "Actual:  In 1930, Cal Poly San Luis Obispo banned women from the entire school until 1956 when it once again began admitting female students.\n",
            "**********\n",
            "Question:  What is usually referred as ?\n",
            "Predicted:  The school is typically referred to as \"Cal Poly\", or simply \"Poly\".\n",
            "Actual:  The school is typically referred to as \"Cal Poly\", or simply \"Poly\".\n",
            "**********\n",
            "Question:  What is 's official name ?\n",
            "Predicted:  The university's style guide indicates its official names are \"California Polytechnic State University\" and \"Cal Poly.\"\n",
            "Actual:  The university's style guide indicates its official names are \"California Polytechnic State University\" and \"Cal Poly.\"\n",
            "generated_q match\n",
            "On May 3, 2017, Cal Poly received one of the largest gifts towards public education to be received in California from Cal Poly alumnus William L. and Linda Frost in the amount of $110 million.\n",
            "**********\n",
            "Question:  Who is the current president of ?\n",
            "Predicted:  On May 3, 2017, Cal Poly received one of the largest gifts towards public education to be received in California from Cal Poly alumnus William L. and Linda Frost in the amount of $110 million.\n",
            "Actual:  Jeffrey D. Armstrong, 2011–present\n",
            "generated_q match\n",
            "In 1960, control of Cal Poly San Luis Obispo and all other state colleges was transferred from the State Board of Education to an independent Board of Trustees, which later became the California State University system.\n",
            "**********\n",
            "Question:  Who was the first president ?\n",
            "Predicted:  In 1960, control of Cal Poly San Luis Obispo and all other state colleges was transferred from the State Board of Education to an independent Board of Trustees, which later became the California State University system.\n",
            "Actual:  Leroy Anderson, 1902–1907\n",
            "generated_q match\n",
            "The college was authorized to offer Master of Science degrees in 1967, and from then to 1970, the school's curriculum was reorganized into different units, such as the School of Science and Math, the School of Agriculture and Natural Resources, and the School of Architecture.\n",
            "**********\n",
            "Question:  How large is ?\n",
            "Predicted:  The college was authorized to offer Master of Science degrees in 1967, and from then to 1970, the school's curriculum was reorganized into different units, such as the School of Science and Math, the School of Agriculture and Natural Resources, and the School of Architecture.\n",
            "Actual:  It owns 9,178 acres and is the second largest land-holding university in California.\n",
            "**********\n",
            "Question:  What is the Swanson Pacific Ranch ?\n",
            "Predicted:  Part of the Cal Poly property is the Swanton Pacific Ranch, a 3,200-acre (1,300 ha) ranch located in Santa Cruz County, California, outside the town of Davenport.\n",
            "Actual:  The ranch provides educational and research opportunities, encompasses rangeland, livestock, and forestry operations for the College of Agriculture, Food, and Environmental sciences, and fosters Cal Poly's Learn by Doing teaching philosophy of with emphasis on sustainable management of agricultural practices with a mix of laboratory experiments.\n",
            "**********\n",
            "Question:  What is 's Master Plan ?\n",
            "Predicted:  California Master Plan for Higher Education\n",
            "Leaning Pine Arboretum, north campus\n",
            "Actual:  The Cal Poly Master Plan calls to increase student population from approximately 17,000 students to 20,900 students by the year 2020–2021.\n",
            "generated_q match\n",
            "On May 3, 2017, Cal Poly received one of the largest gifts towards public education to be received in California from Cal Poly alumnus William L. and Linda Frost in the amount of $110 million.\n",
            "**********\n",
            "Question:  How are going to implement their Master Plan ?\n",
            "Predicted:  On May 3, 2017, Cal Poly received one of the largest gifts towards public education to be received in California from Cal Poly alumnus William L. and Linda Frost in the amount of $110 million.\n",
            "Actual:  To maintain the university's Learn by Doing philosophy and low class sizes, the master plan calls for an increase in classrooms, laboratories, and professors.\n",
            "generated_q match\n",
            "On May 3, 2017, Cal Poly received one of the largest gifts towards public education to be received in California from Cal Poly alumnus William L. and Linda Frost in the amount of $110 million.\n",
            "**********\n",
            "Question:  What is the most recent construction at ?\n",
            "Predicted:  On May 3, 2017, Cal Poly received one of the largest gifts towards public education to be received in California from Cal Poly alumnus William L. and Linda Frost in the amount of $110 million.\n",
            "Actual:  A dormitory style student community was completed in the summer of 2018.\n",
            "generated_q match\n",
            "On May 3, 2017, Cal Poly received one of the largest gifts towards public education to be received in California from Cal Poly alumnus William L. and Linda Frost in the amount of $110 million.\n",
            "**********\n",
            "Question:  What is a currently planned construction ?\n",
            "Predicted:  On May 3, 2017, Cal Poly received one of the largest gifts towards public education to be received in California from Cal Poly alumnus William L. and Linda Frost in the amount of $110 million.\n",
            "Actual:  A $20 million wine and viticulture center is projected to open in 2020.\n",
            "**********\n",
            "Question:  How much parking is there in ?\n",
            "Predicted:  Campus parking is limited.\n",
            "Actual:   In its most recent survey of available parking spaces on campus, the Cal Poly University Police reported 2,892 general purpose parking spaces, 3,492 dorm resident spaces, and 8,648 total spaces.\n",
            "**********\n",
            "Question:  How many bike spaces are there in ?\n",
            "Predicted:  Currently, there are over 6,500 bike rack spaces and 224 secure bike lockers available on campus; 57% of students and 33% of faculty/staff live within 5 miles of the Cal Poly campus, an easy bike commute.\n",
            "Actual:  Currently, there are over 6,500 bike rack spaces and 224 secure bike lockers available on campus; 57% of students and 33% of faculty/staff live within 5 miles of the Cal Poly campus, an easy bike commute.\n",
            "**********\n",
            "Question:  What public transport is there in ?\n",
            "Predicted:  The city's SLO Transit bus system provides service to and from campus.\n",
            "Actual:  The city's SLO Transit bus system provides service to and from campus.\n",
            "**********\n",
            "Question:  How many bachelor degrees does have ?\n",
            "Predicted:  The university currently offers 65 bachelor's degrees, 39 master's degrees, 84 minors and 13 credentials in six colleges: \n",
            "College of Agriculture, Food and Environmental Sciences\n",
            "College of Architecture and Environmental Design\n",
            "Orfalea College of Business\n",
            "College of Engineering\n",
            "College of Liberal Arts\n",
            "College of Science and Mathematics\n",
            "Actual:  The university currently offers 65 bachelor's degrees, 39 master's degrees, 84 minors and 13 credentials in six colleges\n",
            "0.8075750525028748\n",
            "info_match\n",
            "1,426 (Fall 2018)\n",
            "**********\n",
            "Question:  How many master degrees does have ?\n",
            "Predicted:  1,426 (Fall 2018)\n",
            "Actual:  The university currently offers 65 bachelor's degrees, 39 master's degrees, 84 minors and 13 credentials in six colleges\n",
            "generated_q match\n",
            "The college was authorized to offer Master of Science degrees in 1967, and from then to 1970, the school's curriculum was reorganized into different units, such as the School of Science and Math, the School of Agriculture and Natural Resources, and the School of Architecture.\n",
            "**********\n",
            "Question:  How many minor degrees does have ?\n",
            "Predicted:  The college was authorized to offer Master of Science degrees in 1967, and from then to 1970, the school's curriculum was reorganized into different units, such as the School of Science and Math, the School of Agriculture and Natural Resources, and the School of Architecture.\n",
            "Actual:  The university currently offers 65 bachelor's degrees, 39 master's degrees, 84 minors and 13 credentials in six colleges\n",
            "generated_q match\n",
            "Cal Poly San Luis Obispo's FM radio station, KCPR, began as a senior project in 1968.\n",
            "**********\n",
            "Question:  What is the senior project ?\n",
            "Predicted:  Cal Poly San Luis Obispo's FM radio station, KCPR, began as a senior project in 1968.\n",
            "Actual:  The senior project is intended to be a capstone experience for students receiving a baccalaureate degree by integrating theory and application from across a student's undergraduate educational experiences.\n",
            "generated_q match\n",
            "On May 3, 2017, Cal Poly received one of the largest gifts towards public education to be received in California from Cal Poly alumnus William L. and Linda Frost in the amount of $110 million.\n",
            "**********\n",
            "Question:  What are some results from senior projects ?\n",
            "Predicted:  On May 3, 2017, Cal Poly received one of the largest gifts towards public education to be received in California from Cal Poly alumnus William L. and Linda Frost in the amount of $110 million.\n",
            "Actual:  In July 2011, a company created from a Senior Project, Punchd, was acquired by Google.\n",
            "**********\n",
            "Question:  What is the admission rate for ?\n",
            "Predicted:  Cal Poly requires students to declare a major when applying for admission, and the university then admits the most competitive applicants within each major based on GPA and SAT or ACT scores.\n",
            "Actual:  For the class entering Fall 2018, 16,491 freshmen were accepted out of 54,663 applicants, a 30.2% acceptance rate, and 4,398 enrolled.\n",
            "**********\n",
            "Question:  What is the average statistics of admitted students ?\n",
            "Predicted:  Fall 2018 entering students had an average GPA of 4.00; the middle 50% range of SAT scores was 620–700 for reading and writing, and 620–730 for math, while the ACT Composite range was 26–32.\n",
            "Actual:  Fall 2018 entering students had an average GPA of 4.00; the middle 50% range of SAT scores was 620–700 for reading and writing, and 620–730 for math, while the ACT Composite range was 26–32.\n",
            "**********\n",
            "Question:  What is the percentage of incoming male students ?\n",
            "Predicted:  President Armstrong has been working to increase the percentage of non-white students on campus, with the share of white students in the university student body decreasing from 63% to 55%.\n",
            "Actual:  Women constituted 51.2% of the incoming freshmen class, men 48.8%.\n",
            "generated_q match\n",
            "On May 3, 2017, Cal Poly received one of the largest gifts towards public education to be received in California from Cal Poly alumnus William L. and Linda Frost in the amount of $110 million.\n",
            "**********\n",
            "Question:  What is the percentage of incoming female students ?\n",
            "Predicted:  On May 3, 2017, Cal Poly received one of the largest gifts towards public education to be received in California from Cal Poly alumnus William L. and Linda Frost in the amount of $110 million.\n",
            "Actual:  Women constituted 51.2% of the incoming freshmen class, men 48.8%.\n",
            "**********\n",
            "Question:  What is the transfer admission rate for\n",
            "Predicted:  Women constituted 51.2% of the incoming freshmen class, men 48.8%.For Fall 2018 admitted transfer students, Cal Poly accepted 1,733 of 10,923 applicants, a 15.9% acceptance rate.\n",
            "Actual:  For Fall 2018 admitted transfer students, Cal Poly accepted 1,733 of 10,923 applicants, a 15.9% acceptance rate.\n",
            "**********\n",
            "Question:  What is 's ROI ranking ?\n",
            "Predicted:  Cal Poly ranked 37th in the U.S. in PayScale 's 2018 \"College ROI Report,\" which ranked 1,878 colleges and universities.\n",
            "Actual:  Cal Poly ranked 37th in the U.S. in PayScale 's 2018 \"College ROI Report,\" which ranked 1,878 colleges and universities.\n",
            "**********\n",
            "Question:  What is 's US News ranking ?\n",
            "Predicted:  According to U.S. News & World Report's 2020 \"Best Regional Universities West Rankings,\" Cal Poly is ranked 4th overall in the western United States out of 128 regional schools whose highest degree is a Master's, 1st in \"Top Public Schools\", 1st for \"Most Innovative Schools\", tied for 1st for \"Best Undergraduate Teaching\", 2nd in \"Best Colleges for Veterans\", and tied for 87th in \"Top Performers on Social Mobility\".\n",
            "Actual:  According to U.S. News & World Report's 2020 \"Best Regional Universities West Rankings,\" Cal Poly is ranked 4th overall in the western United States out of 128 regional schools whose highest degree is a Master's, 1st in \"Top Public Schools\", 1st for \"Most Innovative Schools\", tied for 1st for \"Best Undergraduate Teaching\", 2nd in \"Best Colleges for Veterans\", and tied for 87th in \"Top Performers on Social Mobility\".\n",
            "**********\n",
            "Question:  What is 's Architecture ranking ?\n",
            "Predicted:  In the 2019 edition of \"America's Best Architecture & Design Schools\" published by the architecture and design journal DesignIntelligence, Cal Poly was ranked the No.\n",
            "Actual:  In the 2019 edition of \"America's Best Architecture & Design Schools\" published by the architecture and design journal DesignIntelligence, Cal Poly was ranked the No. 3 most admired undergraduate architecture program in the nation.\n",
            "**********\n",
            "Question:  What is 's Business ranking ?\n",
            "Predicted:  Cal Poly's Orfalea College of Business was ranked 59th among U.S. undergraduate business colleges in Bloomberg Businessweek's 2016 list (the latest).\n",
            "Actual:  Cal Poly's Orfalea College of Business was ranked 59th among U.S. undergraduate business colleges in Bloomberg Businessweek's 2016 list (the latest).\n",
            "**********\n",
            "Question:  What is 's Civil Engineering ranking ?\n",
            "Predicted:  The same report ranked the College of Engineering 8th out of 210 public and private undergraduate engineering schools in the U.S. where doctorates are not offered with national program rankings of.\n",
            "Actual:  Civil Engineering: 3rd\n",
            "**********\n",
            "Question:  What is 's Computer Engineering ranking ?\n",
            "Predicted:  Computer Engineering: 2nd.\n",
            "Actual:  Computer Engineering: 2nd\n",
            "**********\n",
            "Question:  What is 's Engineering ranking ?\n",
            "Predicted:  The same report ranked the College of Engineering 8th out of 210 public and private undergraduate engineering schools in the U.S. where doctorates are not offered with national program rankings of.\n",
            "Actual:  Mechanical Engineering: 2nd\n",
            "**********\n",
            "Question:  What is 's Industrial Engineering ranking ?\n",
            "Predicted:  Industrial Engineering: 1st.\n",
            "Actual:  Industrial Engineering: 1st\n",
            "generated_q match\n",
            "On May 3, 2017, Cal Poly received one of the largest gifts towards public education to be received in California from Cal Poly alumnus William L. and Linda Frost in the amount of $110 million.\n",
            "**********\n",
            "Question:  How much is 's tuition ?\n",
            "Predicted:  On May 3, 2017, Cal Poly received one of the largest gifts towards public education to be received in California from Cal Poly alumnus William L. and Linda Frost in the amount of $110 million.\n",
            "Actual:  Due to continued reductions in state funding, Fall 2011 fees for the average student reached approximately $2,600 per quarter.\n",
            "**********\n",
            "Question:  How many students received financial aid ?\n",
            "Predicted:  While total yearly fees for an in-state student were just $2,976 in 2002, students entering in fall 2011 faced an annual fee of over $7,900.Of the students enrolled in fall 2014, 61.6% of undergraduates and 70.0% of first-time freshmen received some form of financial aid in 2014–15.\n",
            "Actual:  Of the students enrolled in fall 2014, 61.6% of undergraduates and 70.0% of first-time freshmen received some form of financial aid in 2014–15.\n",
            "**********\n",
            "Question:  What is 's endowment ?\n",
            "Predicted:  The Cal Poly Foundation leads campus philanthropic activity by supporting fundraising activities and investing and managing the campus endowments.\n",
            "Actual:  Cal Poly's endowment more than tripled during its Centennial Campaign from $43.1 million to $140.1 million.\n",
            "**********\n",
            "Question:  How much on-campus housing does have ?\n",
            "Predicted:  Cal Poly's on-campus student housing of 6,239 spaces is the largest student housing program in the California State University system.\n",
            "Actual:  Cal Poly's on-campus student housing of 6,239 spaces is the largest student housing program in the California State University system.\n",
            "**********\n",
            "Question:  What are the residential halls on campus ?\n",
            "Predicted:  Each of the residence halls represent a different living community on campus.\n",
            "Actual:  There are five distinct groups of residence halls on the Cal Poly campus.\n",
            "generated_q match\n",
            "On May 3, 2017, Cal Poly received one of the largest gifts towards public education to be received in California from Cal Poly alumnus William L. and Linda Frost in the amount of $110 million.\n",
            "**********\n",
            "Question:  What is the Week of Welcome ?\n",
            "Predicted:  On May 3, 2017, Cal Poly received one of the largest gifts towards public education to be received in California from Cal Poly alumnus William L. and Linda Frost in the amount of $110 million.\n",
            "Actual:  The Week of Welcome program, more commonly known as \"WOW\", serves as a volunteer-based orientation program for new students during the first week after move-in during the beginning of the school year in September.\n",
            "**********\n",
            "Question:  What is the recreation center ?\n",
            "Predicted:  The Cal Poly Recreation Center is the on-campus student recreation center.\n",
            "Actual:  The Cal Poly Recreation Center is the on-campus student recreation center.\n",
            "generated_q match\n",
            "The college was authorized to offer Master of Science degrees in 1967, and from then to 1970, the school's curriculum was reorganized into different units, such as the School of Science and Math, the School of Agriculture and Natural Resources, and the School of Architecture.\n",
            "**********\n",
            "Question:  What kind of clubs does have ?\n",
            "Predicted:  The college was authorized to offer Master of Science degrees in 1967, and from then to 1970, the school's curriculum was reorganized into different units, such as the School of Science and Math, the School of Agriculture and Natural Resources, and the School of Architecture.\n",
            "Actual:  Included (a full list available on the Associated Students, Incorporated website) are over 150 groups, including, among many other, cultural clubs and exchanges, mathematics and science clubs, religious and atheistic groups, service organizations, engineering research and development clubs, professional development organizations, a perennial Rose Parade Float design program, LGBTQ+ and Multicultural groups, competitive and social athletic teams, and academic honors clubs.\n",
            "**********\n",
            "Question:  What is the diversity of ?\n",
            "Predicted:  As of 2018, Cal Poly San Luis Obispo has the least racially diverse student population of all California State University and University of California campuses, though it is still far more diverse than the surrounding community it serves.\n",
            "Actual:  President Armstrong has been working to increase the percentage of non-white students on campus, with the share of white students in the university student body decreasing from 63% to 55%.\n",
            "**********\n",
            "Question:  How many students are from\n",
            "Predicted:  Cal Poly has one of the largest college campuses in the United States.\n",
            "Actual:  About 84.2% of the students attending California Polytechnic State University - San Luis Obispo come from within California.\n",
            "**********\n",
            "Question:  What sports does compete in ?\n",
            "Predicted:  Cal Poly fields 21 varsity sports (10 for men and 11 for women) and participates in the NCAA's Division I.\n",
            "Cal Poly competes in the Big West Conference, except for football and wrestling (neither of which are sponsored by the Big West).\n",
            "Actual:  Cal Poly fields 21 varsity sports (10 for men and 11 for women) and participates in the NCAA's Division I\n",
            "**********\n",
            "Question:  What mascots does have ?\n",
            "Predicted:  Cal Poly has two mascots.\n",
            "Actual:  Chase the Mustang, Musty the Mustang\n",
            "**********\n",
            "Question:  Who is Musty the Mustang ?\n",
            "Predicted:  The character represented in costume or cartoon is named Musty the Mustang.\n",
            "Actual:  The character represented in costume or cartoon is named Musty the Mustang.\n",
            "**********\n",
            "Question:  Who is Chase ?\n",
            "Predicted:  The live mascot, a living mustang, is named Chase, after Margaret Chase, the university's second president.\n",
            "Actual:  The live mascot, a living mustang, is named Chase, after Margaret Chase, the university's second president.\n",
            "**********\n",
            "Question:  What happened to Kristen Smart ?\n",
            "Predicted:  On May 25, 1996, Cal Poly student Kristin Smart disappeared without a trace after a birthday party.\n",
            "Actual:  On May 25, 1996, Cal Poly student Kristin Smart disappeared without a trace after a birthday party.\n",
            "**********\n",
            "Question:  What is the Crops House incident ?\n",
            "Predicted:  In 2008, a university-owned house (known as Crops House) where agriculture students were given subsidized lodging in exchange for work on the school's farms displayed a racist sign posted during a party which read: “No niggers,” along with a similar slur against gays.\n",
            "Actual:  In 2008, a university-owned house (known as Crops House) where agriculture students were given subsidized lodging in exchange for work on the school's farms displayed a racist sign posted during a party which read: “No niggers,” along with a similar slur against gays.\n",
            "**********\n",
            "Question:  What happened to Pi Kappa Alpha ?\n",
            "Predicted:  In 2018, the Lambda Chi Alpha fraternity was suspended following a photo surfacing that showed a student wearing blackface.\n",
            "Actual:  In 2015, the Pi Kappa Alpha fraternity was suspended for six years following a report of sexual assault, unsafe alcohol consumption and other conduct policy violations at a party in October, 2014.\n",
            "**********\n",
            "Question:  What was the blackface incident ?\n",
            "Predicted:  On May 4, 2018, President Armstrong announced yet another blackface incident that was mocking the prior incident.\n",
            "Actual:  In 2018, the Lambda Chi Alpha fraternity was suspended following a photo surfacing that showed a student wearing blackface.\n",
            "generated_q match\n",
            "The college was authorized to offer Master of Science degrees in 1967, and from then to 1970, the school's curriculum was reorganized into different units, such as the School of Science and Math, the School of Agriculture and Natural Resources, and the School of Architecture.\n",
            "**********\n",
            "Question:  What administrative divisons are there ?\n",
            "Predicted:  The college was authorized to offer Master of Science degrees in 1967, and from then to 1970, the school's curriculum was reorganized into different units, such as the School of Science and Math, the School of Agriculture and Natural Resources, and the School of Architecture.\n",
            "Actual:  The university is organized administratively into four divisions: Academic Affairs, Student Affairs, Administration and Finance, and University Advancement.\n",
            "**********\n",
            "Question:  What is the Corporation ?\n",
            "Predicted:  The Cal Poly Corporation is a public-benefit, nonprofit corporation and university auxiliary.\n",
            "Actual:  The Cal Poly Corporation is a public-benefit, nonprofit corporation and university auxiliary.\n",
            "generated_q match\n",
            "In 1960, control of Cal Poly San Luis Obispo and all other state colleges was transferred from the State Board of Education to an independent Board of Trustees, which later became the California State University system.\n",
            "**********\n",
            "Question:  What does the Corporation do ?\n",
            "Predicted:  In 1960, control of Cal Poly San Luis Obispo and all other state colleges was transferred from the State Board of Education to an independent Board of Trustees, which later became the California State University system.\n",
            "Actual:  It provides commercial services, fiscal services, and key support services to assist and promote the educational mission of Cal Poly and the California State University System (CSU).\n",
            "**********\n",
            "Question:  What is the Foundation ?\n",
            "Predicted:  The corporation was founded in 1940 and was known as the Cal Poly Foundation until February 1, 2006.\n",
            "Actual:  The Cal Poly Foundation is an auxiliary organization and IRC 501(c)(3) public charity that accepts and administers tax deductible gifts to the university.\n",
            "generated_q match\n",
            "On May 3, 2017, Cal Poly received one of the largest gifts towards public education to be received in California from Cal Poly alumnus William L. and Linda Frost in the amount of $110 million.\n",
            "**********\n",
            "Question:  What is Extended Education\n",
            "Predicted:  On May 3, 2017, Cal Poly received one of the largest gifts towards public education to be received in California from Cal Poly alumnus William L. and Linda Frost in the amount of $110 million.\n",
            "Actual:  The Cal Poly Extended Education provides access to degree, certificate, and professional development programs and services of the university to the citizens of San Luis Obispo, Santa Barbara, and Monterey Counties and through distance learning technologies to students across the country.\n",
            "**********\n",
            "Question:  What is Associated Students Inc. ?\n",
            "Predicted:  About 84.2% of the students attending California Polytechnic State University - San Luis Obispo come from within California.\n",
            "Actual:  ASI provides co-curricular experiences for students, faculty, and staff, including events, speakers, concerts, intramural sports, fitness programs, aquatics, outdoor adventure trips, craft center enrichment courses, club services, and child development.\n",
            "**********\n",
            "Question:  What is the Alumni Association ?\n",
            "Predicted:  The Cal Poly Alumni Association seeks to engage and serve alumni, to foster a lifelong connection between the University and its alumni, and to foster goodwill and support for the University.\n",
            "Actual:  The Cal Poly Alumni Association seeks to engage and serve alumni, to foster a lifelong connection between the University and its alumni, and to foster goodwill and support for the University.\n",
            "**********\n",
            "Question:  Who are notable alumni ?\n",
            "Predicted:  The Cal Poly Alumni Association seeks to engage and serve alumni, to foster a lifelong connection between the University and its alumni, and to foster goodwill and support for the University.\n",
            "Actual:  Alumni include Abel Maldonado, Former California Lt. Governor; Devin Nunes, U.S. Representative; Peter Oppenheimer, Chief Financial Officer of Apple Inc.; Farzad Nazem, Chief Technology Officer of Yahoo; Linda Ozawa, founder of Jamba Juice; Richard Bergquist, founder of PeopleSoft; Gary Erickson, founder of Clif Bar; Noel Lee, founder of Monster Cable; William Swanson, CEO and founder of Raytheon; Burt Rutan, aerospace pioneer; Weird Al Yankovic, comedic musician; and John Madden, NFL Hall of Fame coach, David Nwaba, shooting guard for the Brooklyn Nets, Ozzie Smith, Baseball Hall of Fame Major League Baseball player, and NASA Astronaut Victor Glover.\n",
            "**********\n",
            "Question:  What is 's motto in Latin\n",
            "Predicted:  Greek organizations have been at Cal Poly since 1949.\n",
            "Actual:  Discere Faciendo\n",
            "**********\n",
            "Question:  What is 's motto in English ?\n",
            "Predicted:  Although Cal Poly San Luis Obispo is part of the California State University, its naming convention does not follow that of most campuses within the system (for example, the CSU campus in San Diego bears the full official name \"San Diego State University\" and the CSU campus in Fullerton uses the name \"California State University, Fullerton\").\n",
            "Actual:  Learn by Doing\n",
            "0.808108552258312\n",
            "info_match\n",
            "Mary Pedersen (interim)\n",
            "**********\n",
            "Question:  Who is 's provost ?\n",
            "Predicted:  Mary Pedersen (interim)\n",
            "Actual:  Mary Pedersen (interim)\n",
            "0.8662253540759284\n",
            "info_match\n",
            "1,426 (Fall 2018)\n",
            "**********\n",
            "Question:  How much academic staff are at ?\n",
            "Predicted:  1,426 (Fall 2018)\n",
            "Actual:  1,426 (Fall 2018)\n",
            "0.8602298084036382\n",
            "info_match\n",
            "1,659 (Fall 2018)\n",
            "**********\n",
            "Question:  How much administrative staff are at ?\n",
            "Predicted:  1,659 (Fall 2018)\n",
            "Actual:  1,659 (Fall 2018)\n",
            "0.832803657831887\n",
            "info_match\n",
            "21,242 (Fall 2019)\n",
            "**********\n",
            "Question:  How many students are at ?\n",
            "Predicted:  21,242 (Fall 2019)\n",
            "Actual:  21,242 (Fall 2019)\n",
            "**********\n",
            "Question:  What is the student population at ?\n",
            "Predicted:  The Cal Poly Master Plan calls to increase student population from approximately 17,000 students to 20,900 students by the year 2020–2021.\n",
            "Actual:  21,242 (Fall 2019)\n",
            "**********\n",
            "Question:  What is the undergraduate population at ?\n",
            "Predicted:  As of 2018, Cal Poly San Luis Obispo has the least racially diverse student population of all California State University and University of California campuses, though it is still far more diverse than the surrounding community it serves.\n",
            "Actual:  20,453 (Fall 2019)\n",
            "0.8194417919394091\n",
            "info_match\n",
            "21,242 (Fall 2019)\n",
            "**********\n",
            "Question:  How many undergraduates are at ?\n",
            "Predicted:  21,242 (Fall 2019)\n",
            "Actual:  20,453 (Fall 2019)\n",
            "**********\n",
            "Question:  How many postgraduates are at ?\n",
            "Predicted:  The six red-brick halls are the Living-Learning Program halls for the different colleges of Cal Poly.\n",
            "Actual:  789 (Fall 2019)\n",
            "generated_q match\n",
            "On May 3, 2017, Cal Poly received one of the largest gifts towards public education to be received in California from Cal Poly alumnus William L. and Linda Frost in the amount of $110 million.\n",
            "**********\n",
            "Question:  What is the postgraduate population at ?\n",
            "Predicted:  On May 3, 2017, Cal Poly received one of the largest gifts towards public education to be received in California from Cal Poly alumnus William L. and Linda Frost in the amount of $110 million.\n",
            "Actual:  789 (Fall 2019)\n",
            "**********\n",
            "Question:  Where is located ?\n",
            "Predicted:  Located about one mile (1.6 km) from the Voorhis campus, the two became known as Cal Poly Kellogg-Voorhis.\n",
            "Actual:  San Luis Obispo, California, United States\n",
            "0.8390641761637846\n",
            "info_match\n",
            "Green and Gold\n",
            "**********\n",
            "Question:  What are 's colors ?\n",
            "Predicted:  Green and Gold\n",
            "Actual:  Green and Gold\n",
            "0.8207241443843434\n",
            "info_match\n",
            "Mustangs\n",
            "**********\n",
            "Question:  What is 's nickname ?\n",
            "Predicted:  Mustangs\n",
            "Actual:  Mustangs\n",
            "generated_q match\n",
            "The college was authorized to offer Master of Science degrees in 1967, and from then to 1970, the school's curriculum was reorganized into different units, such as the School of Science and Math, the School of Agriculture and Natural Resources, and the School of Architecture.\n",
            "**********\n",
            "Question:  What Affiliations does have ?\n",
            "Predicted:  The college was authorized to offer Master of Science degrees in 1967, and from then to 1970, the school's curriculum was reorganized into different units, such as the School of Science and Math, the School of Agriculture and Natural Resources, and the School of Architecture.\n",
            "Actual:  California State University, AASCU, APLU\n",
            "0.8324971522927906\n",
            "info_match\n",
            "www.calpoly.edu\n",
            "**********\n",
            "Question:  What is 's website ?\n",
            "Predicted:  www.calpoly.edu\n",
            "Actual:  www.calpoly.edu\n",
            "**********\n",
            "Question:  What athletic division is in ?\n",
            "Predicted:  Prior to joining Division I in 1994, the school won 35 NCAA Division II national team championships and competed in the NCAA Division II California Collegiate Athletic Association (CCAA).\n",
            "Actual:  NCAA Division 1 FCS - Big West\n",
            "generated_q match\n",
            "On May 3, 2017, Cal Poly received one of the largest gifts towards public education to be received in California from Cal Poly alumnus William L. and Linda Frost in the amount of $110 million.\n",
            "**********\n",
            "Question:  Who is the president of ?\n",
            "Predicted:  On May 3, 2017, Cal Poly received one of the largest gifts towards public education to be received in California from Cal Poly alumnus William L. and Linda Frost in the amount of $110 million.\n",
            "Actual:  Jeffrey Armstrong\n"
          ],
          "name": "stdout"
        }
      ]
    },
    {
      "cell_type": "code",
      "metadata": {
        "id": "YWsPH50Tlcf-",
        "colab_type": "code",
        "colab": {}
      },
      "source": [
        ""
      ],
      "execution_count": 0,
      "outputs": []
    }
  ]
}