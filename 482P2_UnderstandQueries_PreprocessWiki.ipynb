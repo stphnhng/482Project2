{
  "nbformat": 4,
  "nbformat_minor": 0,
  "metadata": {
    "colab": {
      "name": "482P2-UnderstandQueries-PreprocessWiki.ipynb",
      "provenance": [],
      "collapsed_sections": []
    },
    "kernelspec": {
      "name": "python3",
      "display_name": "Python 3"
    }
  },
  "cells": [
    {
      "cell_type": "code",
      "metadata": {
        "id": "JH59QQe-ssT_",
        "colab_type": "code",
        "outputId": "b4944654-ef9b-4ebe-c520-aa8507eb87b2",
        "colab": {
          "base_uri": "https://localhost:8080/",
          "height": 445
        }
      },
      "source": [
        "import nltk\n",
        "nltk.download('averaged_perceptron_tagger')\n",
        "nltk.download('punkt')\n",
        "nltk.download('tagsets')\n",
        "nltk.download('stopwords')\n",
        "!pip install wikipedia\n",
        "import wikipedia\n",
        "from sklearn.feature_extraction.text import TfidfVectorizer\n",
        "import string"
      ],
      "execution_count": 1,
      "outputs": [
        {
          "output_type": "stream",
          "text": [
            "[nltk_data] Downloading package averaged_perceptron_tagger to\n",
            "[nltk_data]     /root/nltk_data...\n",
            "[nltk_data]   Unzipping taggers/averaged_perceptron_tagger.zip.\n",
            "[nltk_data] Downloading package punkt to /root/nltk_data...\n",
            "[nltk_data]   Unzipping tokenizers/punkt.zip.\n",
            "[nltk_data] Downloading package tagsets to /root/nltk_data...\n",
            "[nltk_data]   Unzipping help/tagsets.zip.\n",
            "[nltk_data] Downloading package stopwords to /root/nltk_data...\n",
            "[nltk_data]   Unzipping corpora/stopwords.zip.\n",
            "Collecting wikipedia\n",
            "  Downloading https://files.pythonhosted.org/packages/67/35/25e68fbc99e672127cc6fbb14b8ec1ba3dfef035bf1e4c90f78f24a80b7d/wikipedia-1.4.0.tar.gz\n",
            "Requirement already satisfied: beautifulsoup4 in /usr/local/lib/python3.6/dist-packages (from wikipedia) (4.6.3)\n",
            "Requirement already satisfied: requests<3.0.0,>=2.0.0 in /usr/local/lib/python3.6/dist-packages (from wikipedia) (2.21.0)\n",
            "Requirement already satisfied: urllib3<1.25,>=1.21.1 in /usr/local/lib/python3.6/dist-packages (from requests<3.0.0,>=2.0.0->wikipedia) (1.24.3)\n",
            "Requirement already satisfied: chardet<3.1.0,>=3.0.2 in /usr/local/lib/python3.6/dist-packages (from requests<3.0.0,>=2.0.0->wikipedia) (3.0.4)\n",
            "Requirement already satisfied: idna<2.9,>=2.5 in /usr/local/lib/python3.6/dist-packages (from requests<3.0.0,>=2.0.0->wikipedia) (2.8)\n",
            "Requirement already satisfied: certifi>=2017.4.17 in /usr/local/lib/python3.6/dist-packages (from requests<3.0.0,>=2.0.0->wikipedia) (2019.11.28)\n",
            "Building wheels for collected packages: wikipedia\n",
            "  Building wheel for wikipedia (setup.py) ... \u001b[?25l\u001b[?25hdone\n",
            "  Created wheel for wikipedia: filename=wikipedia-1.4.0-cp36-none-any.whl size=11686 sha256=f193d511405b2f2881d59b0b4cad86fc8c49d8b32a081e72d286804c4d139d64\n",
            "  Stored in directory: /root/.cache/pip/wheels/87/2a/18/4e471fd96d12114d16fe4a446d00c3b38fb9efcb744bd31f4a\n",
            "Successfully built wikipedia\n",
            "Installing collected packages: wikipedia\n",
            "Successfully installed wikipedia-1.4.0\n"
          ],
          "name": "stdout"
        }
      ]
    },
    {
      "cell_type": "code",
      "metadata": {
        "id": "nvmnXXWcxEd8",
        "colab_type": "code",
        "colab": {}
      },
      "source": [
        "import json\n",
        "with open(\"data.json\", \"r\") as read_file:\n",
        "    data = json.load(read_file)"
      ],
      "execution_count": 0,
      "outputs": []
    },
    {
      "cell_type": "code",
      "metadata": {
        "id": "H_2EIXhk0pnw",
        "colab_type": "code",
        "colab": {}
      },
      "source": [
        "with open(\"infobox.json\", \"r\") as read_file:\n",
        "    infobox_data = json.load(read_file)"
      ],
      "execution_count": 0,
      "outputs": []
    },
    {
      "cell_type": "code",
      "metadata": {
        "id": "FZkBEhGJEe4A",
        "colab_type": "code",
        "colab": {}
      },
      "source": [
        "from nltk.corpus import stopwords"
      ],
      "execution_count": 0,
      "outputs": []
    },
    {
      "cell_type": "code",
      "metadata": {
        "id": "p9PPt5jIGVJn",
        "colab_type": "code",
        "colab": {}
      },
      "source": [
        "import spacy\n",
        "from spacy import displacy\n",
        "from collections import Counter\n",
        "import en_core_web_sm\n",
        "from pprint import pprint"
      ],
      "execution_count": 0,
      "outputs": []
    },
    {
      "cell_type": "code",
      "metadata": {
        "id": "JYrlC24iGMmg",
        "colab_type": "code",
        "colab": {
          "base_uri": "https://localhost:8080/",
          "height": 88
        },
        "outputId": "fbb3544a-854b-4ef6-eac8-8661826803b1"
      },
      "source": [
        "!python -m spacy download en_core_web_lg"
      ],
      "execution_count": 44,
      "outputs": [
        {
          "output_type": "stream",
          "text": [
            "Requirement already satisfied: en_core_web_lg==2.1.0 from https://github.com/explosion/spacy-models/releases/download/en_core_web_lg-2.1.0/en_core_web_lg-2.1.0.tar.gz#egg=en_core_web_lg==2.1.0 in /usr/local/lib/python3.6/dist-packages (2.1.0)\n",
            "\u001b[38;5;2m✔ Download and installation successful\u001b[0m\n",
            "You can now load the model via spacy.load('en_core_web_lg')\n"
          ],
          "name": "stdout"
        }
      ]
    },
    {
      "cell_type": "code",
      "metadata": {
        "id": "-JAItILGohrg",
        "colab_type": "code",
        "colab": {}
      },
      "source": [
        "import en_core_web_lg\n",
        "nlp = en_core_web_lg.load()"
      ],
      "execution_count": 0,
      "outputs": []
    },
    {
      "cell_type": "code",
      "metadata": {
        "id": "uHIWwg3VqRt8",
        "colab_type": "code",
        "colab": {}
      },
      "source": [
        ""
      ],
      "execution_count": 0,
      "outputs": []
    },
    {
      "cell_type": "markdown",
      "metadata": {
        "id": "0VUrNnZTqCNY",
        "colab_type": "text"
      },
      "source": [
        "# Preprocess Wikipedia Sentences\n",
        "\n",
        "NER using Spacy: https://towardsdatascience.com/named-entity-recognition-with-nltk-and-spacy-8c4a7d88e7da\n",
        "\n",
        "Basic NLP Overview: https://github.com/charlieg/A-Smattering-of-NLP-in-Python\n",
        "\n",
        "Stackoverflow Q about Info Extraction: https://datascience.stackexchange.com/questions/2646/extract-most-informative-parts-of-text-from-documents\n",
        "\n",
        "## TODO: Read these and try them out:\n",
        "\n",
        "Context analysis for NLP: https://www.lexalytics.com/lexablog/context-analysis-nlp\n",
        "\n",
        "Using lexical chains for keyword extraction: https://web.cs.hacettepe.edu.tr/~ilyas/PDF/2007_IPM.pdf\n",
        "\n",
        "Event Detection using Lexical Chains: https://link.springer.com/chapter/10.1007/978-3-642-14770-8_35\n",
        "\n",
        "Using Lexical Chains for Text Summarization: https://www.aclweb.org/anthology/W97-0703.pdf\n",
        "\n",
        "Significant Lexical Relationships: https://www.d.umn.edu/~tpederse/Pubs/aaai96-cmpl.pdf\n",
        "\n",
        "\n",
        "\n"
      ]
    },
    {
      "cell_type": "code",
      "metadata": {
        "id": "71jfhL9usSIP",
        "colab_type": "code",
        "colab": {}
      },
      "source": [
        "def preprocess(sent):\n",
        "    sent = nltk.word_tokenize(sent)\n",
        "    sent = nltk.pos_tag(sent)\n",
        "    return sent"
      ],
      "execution_count": 0,
      "outputs": []
    },
    {
      "cell_type": "code",
      "metadata": {
        "id": "8E0taRK8qGy9",
        "colab_type": "code",
        "colab": {}
      },
      "source": [
        "samp_sent = (\"The university is located in San Luis Obispo, California, often noted \"\n",
        "            \"as one of the happiest cities in the United States, with many alumni in Silicon Valley.\")\n",
        "samp_para = wikipedia.page('california polytechnic school').section('History').split(\"\\n\")[0]"
      ],
      "execution_count": 0,
      "outputs": []
    },
    {
      "cell_type": "markdown",
      "metadata": {
        "id": "Ua6UeWGHrtdi",
        "colab_type": "text"
      },
      "source": [
        "## Spacy NLP"
      ]
    },
    {
      "cell_type": "code",
      "metadata": {
        "id": "nIZJl0YXrv65",
        "colab_type": "code",
        "colab": {}
      },
      "source": [
        "query_nlp = nlp(\"What is the university population?\")"
      ],
      "execution_count": 0,
      "outputs": []
    },
    {
      "cell_type": "code",
      "metadata": {
        "id": "462P3WBF2NMV",
        "colab_type": "code",
        "outputId": "89ff7ba9-2750-477c-d3e2-0ad11f461b38",
        "colab": {
          "base_uri": "https://localhost:8080/",
          "height": 164
        }
      },
      "source": [
        "list(samp_pop_nlp.noun_chunks)"
      ],
      "execution_count": 21,
      "outputs": [
        {
          "output_type": "error",
          "ename": "NameError",
          "evalue": "ignored",
          "traceback": [
            "\u001b[0;31m---------------------------------------------------------------------------\u001b[0m",
            "\u001b[0;31mNameError\u001b[0m                                 Traceback (most recent call last)",
            "\u001b[0;32m<ipython-input-21-4eab2279898c>\u001b[0m in \u001b[0;36m<module>\u001b[0;34m()\u001b[0m\n\u001b[0;32m----> 1\u001b[0;31m \u001b[0mlist\u001b[0m\u001b[0;34m(\u001b[0m\u001b[0msamp_pop_nlp\u001b[0m\u001b[0;34m.\u001b[0m\u001b[0mnoun_chunks\u001b[0m\u001b[0;34m)\u001b[0m\u001b[0;34m\u001b[0m\u001b[0;34m\u001b[0m\u001b[0m\n\u001b[0m",
            "\u001b[0;31mNameError\u001b[0m: name 'samp_pop_nlp' is not defined"
          ]
        }
      ]
    },
    {
      "cell_type": "code",
      "metadata": {
        "id": "ts22vZR9_5l5",
        "colab_type": "code",
        "colab": {}
      },
      "source": [
        "samp_pop_nlp = nlp(\"The Cal Poly Master Plan calls to increase student population from approximately 17,000 students to 20,900 students by the year 2020–2021\")"
      ],
      "execution_count": 0,
      "outputs": []
    },
    {
      "cell_type": "code",
      "metadata": {
        "id": "vn-3vwPq_gNI",
        "colab_type": "code",
        "outputId": "7de0e674-1fa3-41a3-9681-27119d913096",
        "colab": {
          "base_uri": "https://localhost:8080/",
          "height": 34
        }
      },
      "source": [
        "' '.join([str(word) for word in samp_pop_nlp.noun_chunks])"
      ],
      "execution_count": 23,
      "outputs": [
        {
          "output_type": "execute_result",
          "data": {
            "text/plain": [
              "'The Cal Poly Master Plan student population approximately 17,000 students 20,900 students the year'"
            ]
          },
          "metadata": {
            "tags": []
          },
          "execution_count": 23
        }
      ]
    },
    {
      "cell_type": "code",
      "metadata": {
        "id": "Mq9On9iC__jo",
        "colab_type": "code",
        "outputId": "a4e6ce77-3bec-4897-a574-ce7034b02bbb",
        "colab": {
          "base_uri": "https://localhost:8080/",
          "height": 34
        }
      },
      "source": [
        "' '.join([str(word) for word in query_nlp.noun_chunks])"
      ],
      "execution_count": 24,
      "outputs": [
        {
          "output_type": "execute_result",
          "data": {
            "text/plain": [
              "'What the university population'"
            ]
          },
          "metadata": {
            "tags": []
          },
          "execution_count": 24
        }
      ]
    },
    {
      "cell_type": "code",
      "metadata": {
        "id": "Jfshr2lHAhkI",
        "colab_type": "code",
        "outputId": "dd62c771-e638-4be3-ec8e-559b3d6d4e3b",
        "colab": {
          "base_uri": "https://localhost:8080/",
          "height": 34
        }
      },
      "source": [
        "nlp(' '.join([str(word) for word in query_nlp.noun_chunks])).similarity(nlp(' '.join([str(word) for word in samp_pop_nlp.noun_chunks])))"
      ],
      "execution_count": 25,
      "outputs": [
        {
          "output_type": "execute_result",
          "data": {
            "text/plain": [
              "0.8062704332689763"
            ]
          },
          "metadata": {
            "tags": []
          },
          "execution_count": 25
        }
      ]
    },
    {
      "cell_type": "code",
      "metadata": {
        "id": "B6MY6PtZ3Xa0",
        "colab_type": "code",
        "outputId": "a8cc3615-17c6-40cf-e7a2-2069bc094cc6",
        "colab": {
          "base_uri": "https://localhost:8080/",
          "height": 119
        }
      },
      "source": [
        "for word in query_nlp:\n",
        "    print(word, word.pos_)"
      ],
      "execution_count": 26,
      "outputs": [
        {
          "output_type": "stream",
          "text": [
            "What PRON\n",
            "is VERB\n",
            "the DET\n",
            "university NOUN\n",
            "population NOUN\n",
            "? PUNCT\n"
          ],
          "name": "stdout"
        }
      ]
    },
    {
      "cell_type": "code",
      "metadata": {
        "id": "qaSLgNeKxZX-",
        "colab_type": "code",
        "colab": {}
      },
      "source": [
        "infobox_similarity = {}\n",
        "for info_name in infobox_data.keys():\n",
        "    infobox_row = info_name + \" \"\n",
        "    if isinstance(infobox_data[info_name], str):\n",
        "        infobox_row += infobox_data[info_name]\n",
        "    else:\n",
        "        infobox_row += ' '.join(infobox_data[info_name])\n",
        "    infobox_similarity[infobox_row] = nlp(infobox_row).similarity(query_nlp)\n"
      ],
      "execution_count": 0,
      "outputs": []
    },
    {
      "cell_type": "code",
      "metadata": {
        "id": "PCcmVaKSyBVO",
        "colab_type": "code",
        "colab": {}
      },
      "source": [
        "section_similarity = {}\n",
        "for para in wikipedia.page('california polytechnic school').content.split(\"\\n\"):\n",
        "    for sent in nltk.sent_tokenize(para):\n",
        "        section_similarity[sent] = nlp(sent).similarity(query_nlp)"
      ],
      "execution_count": 0,
      "outputs": []
    },
    {
      "cell_type": "code",
      "metadata": {
        "id": "Gd3K3e1rxtVV",
        "colab_type": "code",
        "colab": {
          "base_uri": "https://localhost:8080/",
          "height": 1000
        },
        "outputId": "db11a601-3f9d-4394-ef74-1d879bf99e9b"
      },
      "source": [
        "pprint(sorted(section_similarity.items(), key = \n",
        "             lambda kv:(kv[1], kv[0]), reverse=True))"
      ],
      "execution_count": 29,
      "outputs": [
        {
          "output_type": "stream",
          "text": [
            "[('As of 2018, Cal Poly San Luis Obispo has the least racially diverse student '\n",
            "  'population of all California State University and University of California '\n",
            "  'campuses, though it is still far more diverse than the surrounding '\n",
            "  'community it serves.',\n",
            "  0.894135331859435),\n",
            " ('It is one of two polytechnics in the California State University system.',\n",
            "  0.8786171526754405),\n",
            " ('This ROI is the 2nd highest in the California State University system and '\n",
            "  'is higher than all of the University of California schools except UC '\n",
            "  'Berkeley.Washington Monthly ranked Cal Poly 23rd out of 606 schools in the '\n",
            "  'U.S. \"National Universities - Masters\" category in 2019 based on its '\n",
            "  'contribution to the public good in three broad categories: social mobility, '\n",
            "  'research, and service.',\n",
            "  0.8783312631472701),\n",
            " (\"The state legislature changed the school's official name again in 1971 to \"\n",
            "  'California Polytechnic State University, and since the 1970s the university '\n",
            "  'has seen steady enrollment growth and building construction.',\n",
            "  0.8746945470562304),\n",
            " ('About 84.2% of the students attending California Polytechnic State '\n",
            "  'University - San Luis Obispo come from within California.The Los Angeles '\n",
            "  'Times reported that the university \"was ranked one of the nation’s worst '\n",
            "  'serving institutions for Latino student success.',\n",
            "  0.8677298963366765),\n",
            " (\"It's one among 20 public institutions in the U.S. with this negative \"\n",
            "  'distinction.',\n",
            "  0.8658856899005183),\n",
            " ('While the city has been building hundreds of single family housing on the '\n",
            "  'south end of town, large areas of the north end in older neighborhoods have '\n",
            "  'been converted to rental student housing because of a major increase in the '\n",
            "  'number of students admitted to and attending the university and the lack of '\n",
            "  'university supplied housing.',\n",
            "  0.8635521074167808),\n",
            " ('Cal Poly has one of the largest college campuses in the United States.',\n",
            "  0.8632457768394762),\n",
            " ('As a result, changing majors at the university is not guaranteed.',\n",
            "  0.8614919082546025),\n",
            " ('Cal Poly also offers Greek organizations based on academic fields of '\n",
            "  'study.As of April 17, 2018, Greek Life has been suspended indefinitely by '\n",
            "  'the university following a number of racial controversies, the most recent '\n",
            "  'of which being the 2018 Cal Poly Blackface Incident.',\n",
            "  0.8593209805460043),\n",
            " ('The Poly Canyon Village housing complex, with a similar style as the Cerro '\n",
            "  'Vista apartments, was completed in 2009 at a cost of $300 million, making '\n",
            "  \"it the California State University system's largest construction project to \"\n",
            "  'date.Each of the residence halls represent a different living community on '\n",
            "  'campus.',\n",
            "  0.8583013094644649),\n",
            " ('\"The Education Trust lists the university as an \"Engine of Inequality\" '\n",
            "  'because \"very few students come from working-class and low-income '\n",
            "  'families.\"',\n",
            "  0.8577307186608223),\n",
            " ('As part of that plan, the university has constructed additional dorms and '\n",
            "  'has tried to make campus life more desirable.',\n",
            "  0.8564577815000984),\n",
            " ('This has created an affordability crisis for the city itself, as most '\n",
            "  'apartments that would generally be occupied by lower income families and '\n",
            "  'individuals are now occupied solely by Cal Poly students, reducing supply '\n",
            "  'and pushing low-income residents outside of the city.',\n",
            "  0.8555311085346131),\n",
            " ('In 2008, a university-owned house (known as Crops House) where agriculture '\n",
            "  \"students were given subsidized lodging in exchange for work on the school's \"\n",
            "  'farms displayed a racist sign posted during a party which read: “No '\n",
            "  'niggers,” along with a similar slur against gays.',\n",
            "  0.8554489279290147),\n",
            " ('Although Cal Poly San Luis Obispo is part of the California State '\n",
            "  'University, its naming convention does not follow that of most campuses '\n",
            "  'within the system (for example, the CSU campus in San Diego bears the full '\n",
            "  'official name \"San Diego State University\" and the CSU campus in Fullerton '\n",
            "  'uses the name \"California State University, Fullerton\").',\n",
            "  0.8550906241915195),\n",
            " ('Though generally regarded as a positive for the area due to the economic '\n",
            "  'impact, Cal Poly has received criticism for both the behavior of students '\n",
            "  'upsetting the community, and the effects on local housing market.',\n",
            "  0.8537665809708873),\n",
            " (\"Cal Poly's on-campus student housing of 6,239 spaces is the largest student \"\n",
            "  'housing program in the California State University system.',\n",
            "  0.853457980976814),\n",
            " ('The landscape architecture program was ranked 6th most admired in the '\n",
            "  \"country and 1st in the Western region.Cal Poly's Orfalea College of \"\n",
            "  'Business was ranked 59th among U.S. undergraduate business colleges in '\n",
            "  \"Bloomberg Businessweek's 2016 list (the latest).\",\n",
            "  0.8529660335894502),\n",
            " ('In 1960, control of Cal Poly San Luis Obispo and all other state colleges '\n",
            "  'was transferred from the State Board of Education to an independent Board '\n",
            "  'of Trustees, which later became the California State University system.The '\n",
            "  'college was authorized to offer Master of Science degrees in 1967, and from '\n",
            "  \"then to 1970, the school's curriculum was reorganized into different units, \"\n",
            "  'such as the School of Science and Math, the School of Agriculture and '\n",
            "  'Natural Resources, and the School of Architecture.',\n",
            "  0.8513718519864202),\n",
            " ('Parties and gatherings have gotten wilder due to an increased student body '\n",
            "  'size and social media presence, leading to the university being named the '\n",
            "  '#9 party school in California by Niche.',\n",
            "  0.8511408893609861),\n",
            " ('President Armstrong has been working to increase the percentage of '\n",
            "  'non-white students on campus, with the share of white students in the '\n",
            "  'university student body decreasing from 63% to 55%.',\n",
            "  0.8507036283125294),\n",
            " ('The program started in 1956 and is now the largest volunteer orientation '\n",
            "  'program in the nation.',\n",
            "  0.8500664224388861),\n",
            " ('The same report ranked the College of Engineering 8th out of 210 public and '\n",
            "  'private undergraduate engineering schools in the U.S. where doctorates are '\n",
            "  'not offered with national program rankings of:',\n",
            "  0.8487149289843205),\n",
            " ('The school was renamed the California State Polytechnic College in 1947 to '\n",
            "  'better reflect its higher education offerings, and in 1949, a Master of '\n",
            "  'Arts degree in education was added.',\n",
            "  0.8480730782523016),\n",
            " ('On a national scale, however, Cal Poly is ranked 240 out of 2,475 colleges '\n",
            "  'and is considered \"highly diverse\" by collegefactual.com.',\n",
            "  0.8468075406405409),\n",
            " ('The five North Mountain halls are organizationally a part of the '\n",
            "  'engineering Living-Learning Program.',\n",
            "  0.8453372597325893),\n",
            " ('Cal Poly requires students to declare a major when applying for admission, '\n",
            "  'and the university then admits the most competitive applicants within each '\n",
            "  'major based on GPA and SAT or ACT scores.',\n",
            "  0.8436667848518766),\n",
            " ('In its facilities Master Plan, the university admits that while more '\n",
            "  'parking spots will be added, the actual ratio of parking to students will '\n",
            "  'decrease since enrollment is expected to increase sharply.',\n",
            "  0.8427839434900678),\n",
            " ('369 out of 569.Money magazine ranked Cal Poly 75th in the country out of '\n",
            "  '744 schools evaluated for its 2019-20 \"Best Colleges for Your Money\" '\n",
            "  'edition.For 2019, Kiplinger ranked Cal Poly 19th out of the top 174 '\n",
            "  'best-value public colleges and universities in the nation, and 3rd in '\n",
            "  'California.According to U.S. News & World Report\\'s 2020 \"Best Regional '\n",
            "  'Universities West Rankings,\" Cal Poly is ranked 4th overall in the western '\n",
            "  'United States out of 128 regional schools whose highest degree is a '\n",
            "  'Master\\'s, 1st in \"Top Public Schools\", 1st for \"Most Innovative Schools\", '\n",
            "  'tied for 1st for \"Best Undergraduate Teaching\", 2nd in \"Best Colleges for '\n",
            "  'Veterans\", and tied for 87th in \"Top Performers on Social Mobility\".',\n",
            "  0.8424835310462024),\n",
            " ('The university\\'s style guide indicates its official names are \"California '\n",
            "  'Polytechnic State University\" and \"Cal Poly.\"',\n",
            "  0.8423846099551742),\n",
            " ('It owns 9,178 acres and is the second largest land-holding university in '\n",
            "  'California.',\n",
            "  0.841970707279824),\n",
            " ('The university is currently building housing on campus to attempt to house '\n",
            "  'up to 65% of students and plans to cap enrollment at 25,000, meaning that '\n",
            "  '11,250 students must find off-campus housing.',\n",
            "  0.840946170767776),\n",
            " ('Cal Poly\\'s admissions process is \"more selective\" according to U.S. News & '\n",
            "  'World Report.For the class entering Fall 2018, 16,491 freshmen were '\n",
            "  'accepted out of 54,663 applicants, a 30.2% acceptance rate, and 4,398 '\n",
            "  'enrolled.',\n",
            "  0.8401349820821701),\n",
            " ('The university remains coeducational today, with women constituting 46.7% '\n",
            "  'of the Fall 2015 total student population.',\n",
            "  0.8401291400017796),\n",
            " ('As of 2017, the excavation of the area surrounding has been completed with '\n",
            "  \"articles found, however the sheriff's department has not yet released what \"\n",
            "  'the findings are.',\n",
            "  0.8381540525901665),\n",
            " ('Its purpose is to introduce students to the campus and the community and '\n",
            "  'prepare them for a successful college career.',\n",
            "  0.836904730689538),\n",
            " ('The Week of Welcome program, more commonly known as \"WOW\", serves as a '\n",
            "  'volunteer-based orientation program for new students during the first week '\n",
            "  'after move-in during the beginning of the school year in September.',\n",
            "  0.8363326291557043),\n",
            " ('It is the second largest and most technologically advanced structure on '\n",
            "  'campus.',\n",
            "  0.8360635772378354),\n",
            " (\"The university and sheriff's department have been investigating leads, \"\n",
            "  'including excavating the land around the Cal Poly \"P\" on an adjoining hill.',\n",
            "  0.8349663285839388),\n",
            " ('The university is located in San Luis Obispo, California, often noted as '\n",
            "  'one of the happiest cities in the United States, with many alumni in '\n",
            "  'Silicon Valley.',\n",
            "  0.8324812801763755),\n",
            " (\"To maintain the university's Learn by Doing philosophy and low class sizes, \"\n",
            "  'the master plan calls for an increase in classrooms, laboratories, and '\n",
            "  'professors.',\n",
            "  0.8322201108133045),\n",
            " ('The academic division is organized into six colleges, each with its own '\n",
            "  'dean.',\n",
            "  0.8286590571995853),\n",
            " ('The new $123 million Science and Agriculture Teaching and Research Complex '\n",
            "  'is scheduled to open fall 2021; a renovation of The Robert E. Kennedy '\n",
            "  'Library is expected to begin no sooner than January 2022 and cost $65 '\n",
            "  'million.',\n",
            "  0.8249919886532875),\n",
            " (\"The university is organized into six colleges offering 65 bachelor's and 39 \"\n",
            "  \"master's degrees.\",\n",
            "  0.8247294053868863),\n",
            " ('A dormitory style student community was completed in the summer of 2018.',\n",
            "  0.8233041855063198),\n",
            " ('The live mascot, a living mustang, is named Chase, after Margaret Chase, '\n",
            "  \"the university's second president.Cal Poly also offers various non varsity \"\n",
            "  'sports.',\n",
            "  0.8210341773646496),\n",
            " ('Each major has a specific change of major plan which includes required '\n",
            "  'classes to be taken while maintaining a certain GPA (usually between '\n",
            "  '2.5–2.75) in order to be considered as a candidate.',\n",
            "  0.8210128941834403),\n",
            " ('Approximately 27% of the residents live below the poverty line, a similar '\n",
            "  'percentage to Cleveland, Ohio.',\n",
            "  0.8197153251800691),\n",
            " ('Poly Canyon Village is the Sophomore Success Program community, which is '\n",
            "  'open to primarily to sophomores, but also juniors and seniors, and helps '\n",
            "  'students transition into independent living.',\n",
            "  0.8196039353877632),\n",
            " (\"The university's athletic teams participate in the Big West Conference.\",\n",
            "  0.8185832788147006),\n",
            " ('The school continued to grow steadily, except during a period from the mid '\n",
            "  '1910s to the early 1920s when World War I led to drops in enrollment and '\n",
            "  'drastic budget cuts forced fewer class offerings.',\n",
            "  0.8166136708866951),\n",
            " ('The senior project is intended to be a capstone experience for students '\n",
            "  'receiving a baccalaureate degree by integrating theory and application from '\n",
            "  \"across a student's undergraduate educational experiences.\",\n",
            "  0.8162782409379081),\n",
            " ('The Corporation engages only in those activities ancillary to state '\n",
            "  \"operation that are requested by Cal Poly's President and approved by the \"\n",
            "  'CSU.',\n",
            "  0.8150814236216982),\n",
            " ('The Cerro Vista Apartments is the Transitions community for first-year and '\n",
            "  'second-year students.',\n",
            "  0.8147885330077244),\n",
            " ('3 most admired undergraduate architecture program in the nation.',\n",
            "  0.8146100573356838),\n",
            " ('To resolve the disparity, the Master Plan calls on the university to reduce '\n",
            "  'the demand for individual vehicle parking.',\n",
            "  0.8145038093900179),\n",
            " ('The incident is being investigated by the state.', 0.8134148935599034),\n",
            " ('Cal Poly competes in the Big West Conference, except for football and '\n",
            "  'wrestling (neither of which are sponsored by the Big West).',\n",
            "  0.8125105113655413),\n",
            " ('On May 3, 2017, Cal Poly received one of the largest gifts towards public '\n",
            "  'education to be received in California from Cal Poly alumnus William L. and '\n",
            "  'Linda Frost in the amount of $110 million.',\n",
            "  0.8117365859018894),\n",
            " ('The Cal Poly Extended Education provides access to degree, certificate, and '\n",
            "  'professional development programs and services of the university to the '\n",
            "  'citizens of San Luis Obispo, Santa Barbara, and Monterey Counties and '\n",
            "  'through distance learning technologies to students across the country.',\n",
            "  0.8100299660795927),\n",
            " ('The five North Mountain halls, constructed in the 1950s, are the oldest on '\n",
            "  'campus still used for residential purposes.',\n",
            "  0.8096759448139439),\n",
            " ('The six red-brick halls are the Living-Learning Program halls for the '\n",
            "  'different colleges of Cal Poly.',\n",
            "  0.8092337611088453),\n",
            " ('The Cal Poly Master Plan calls to increase student population from '\n",
            "  'approximately 17,000 students to 20,900 students by the year 2020–2021.',\n",
            "  0.807602299605581),\n",
            " ('In 2015, the Pi Kappa Alpha fraternity was suspended for six years '\n",
            "  'following a report of sexual assault, unsafe alcohol consumption and other '\n",
            "  'conduct policy violations at a party in October, 2014.',\n",
            "  0.8072557640102234),\n",
            " ('In the space between the remaining wings of the old \"Spider Building\" and '\n",
            "  'the new Center is Centennial Park, a landscaped central green.',\n",
            "  0.8067838025786138),\n",
            " ('Mechanical Engineering: 2ndIn the 2019 edition of \"America\\'s Best '\n",
            "  'Architecture & Design Schools\" published by the architecture and design '\n",
            "  'journal DesignIntelligence, Cal Poly was ranked the No.',\n",
            "  0.8056960928977445),\n",
            " ('The lands are used for student education and include the main campus, two '\n",
            "  'nearby agricultural lands, and two properties in Santa Cruz County.',\n",
            "  0.8051074219999692),\n",
            " ('Fall 2018 entering students had an average GPA of 4.00; the middle 50% '\n",
            "  'range of SAT scores was 620–700 for reading and writing, and 620–730 for '\n",
            "  'math, while the ACT Composite range was 26–32.',\n",
            "  0.804746715861322),\n",
            " ('Freshmen are placed in a group with 10–12 other new students while transfer '\n",
            "  'students are in groups of 40-60; each group is led by two current Cal Poly '\n",
            "  'student orientation leaders.',\n",
            "  0.8040982243752787),\n",
            " ('The polytechnic school held its first classes on October 1, 1903 to 20 '\n",
            "  'students, offering secondary level courses of study, which took three years '\n",
            "  'to complete.',\n",
            "  0.8010388872960288),\n",
            " ('In 1930, Cal Poly San Luis Obispo banned women from the entire school until '\n",
            "  '1956 when it once again began admitting female students.',\n",
            "  0.8008608081601236),\n",
            " ('The \"WOW\" groups participate in an array of orientation events in addition '\n",
            "  'to activities both on- and off-campus.',\n",
            "  0.8005112238244375),\n",
            " ('The awareness section was entirely developed by student volunteers.',\n",
            "  0.7994598970335421),\n",
            " ('115 out of the 650 best private and public colleges, universities and '\n",
            "  'service academies in America.',\n",
            "  0.7989694387267408),\n",
            " ('Cal Poly ranked 37th in the U.S. in PayScale \\'s 2018 \"College ROI Report,\" '\n",
            "  'which ranked 1,878 colleges and universities.',\n",
            "  0.798834273511728),\n",
            " ('In addition, Cal Poly Commuter and Access Services has successfully '\n",
            "  'promoted alternatives to commuting in single occupancy vehicles: in the '\n",
            "  'past 10 years, bus use has more than doubled and the use of bicycles has '\n",
            "  'close to quadrupled.Currently, there are over 6,500 bike rack spaces and '\n",
            "  '224 secure bike lockers available on campus; 57% of students and 33% of '\n",
            "  'faculty/staff live within 5 miles of the Cal Poly campus, an easy bike '\n",
            "  'commute.',\n",
            "  0.7974487691343313),\n",
            " ('In 2008, the first year of the list, Cal Poly was ranked No.',\n",
            "  0.7972472700746054),\n",
            " ('The Cal Poly Alumni Association seeks to engage and serve alumni, to foster '\n",
            "  'a lifelong connection between the University and its alumni, and to foster '\n",
            "  'goodwill and support for the University.',\n",
            "  0.7971667097806721),\n",
            " ('The Cal Poly Foundation is an auxiliary organization and IRC 501(c)(3) '\n",
            "  'public charity that accepts and administers tax deductible gifts to the '\n",
            "  'university.',\n",
            "  0.7968816430306199),\n",
            " ('Site improvements include a large open space in the center of the project '\n",
            "  'for activities and group events, volleyball and basketball courts, and '\n",
            "  'outdoor gathering spaces at each building.The Warren J. Baker Center for '\n",
            "  'Science and Mathematics was dedicated November 1, 2013.',\n",
            "  0.7955533272732617),\n",
            " ('The senior project consists of one or more of the following: a design or '\n",
            "  'construction experience, an experiment, a self-guided study or research '\n",
            "  'project, a presentation, a report based on internship, co-op, or service '\n",
            "  'learning experience, and/or a public portfolio display or performance.',\n",
            "  0.7954831685203365),\n",
            " ('While total yearly fees for an in-state student were just $2,976 in 2002, '\n",
            "  'students entering in fall 2011 faced an annual fee of over $7,900.Of the '\n",
            "  'students enrolled in fall 2014, 61.6% of undergraduates and 70.0% of '\n",
            "  'first-time freshmen received some form of financial aid in 2014–15.',\n",
            "  0.7940005024788641),\n",
            " ('The Sierra Madre and Yosemite halls are the First-Year Connection Program '\n",
            "  'halls and focus on freshman-oriented transition programs.',\n",
            "  0.793438678476506),\n",
            " ('The Cal Poly Corporation is a public-benefit, nonprofit corporation and '\n",
            "  'university auxiliary.',\n",
            "  0.792781457129356),\n",
            " ('In addition, 28.7% of Cal Poly sophomores lived on campus in fall '\n",
            "  '2015.There are five distinct groups of residence halls on the Cal Poly '\n",
            "  'campus.',\n",
            "  0.7923361008716581),\n",
            " ('In addition, the William and Linda Frost Center for Research and '\n",
            "  'Innovation, a $124 million interdisciplinary research center, broke ground '\n",
            "  'in May 2019.',\n",
            "  0.791919604470164),\n",
            " ('In response to further protests, President Armstrong suspended all Greek '\n",
            "  'Life on campus indefinitely.',\n",
            "  0.7916446599840389),\n",
            " ('The Center adds new laboratories, classrooms, and offices for the physics, '\n",
            "  'chemistry and soil science programs, as well as an open area and terraces '\n",
            "  'for student study and meeting places.',\n",
            "  0.7913325888954414),\n",
            " (\"The top floor of the Center houses labs and offices for the school's \"\n",
            "  'Western Coatings Technologies Center and the Environmental Biotechnology '\n",
            "  'Institute.',\n",
            "  0.790953750726618),\n",
            " ('The university is organized administratively into four divisions: Academic '\n",
            "  'Affairs, Student Affairs, Administration and Finance, and University '\n",
            "  'Advancement.',\n",
            "  0.7903138393525305),\n",
            " (\"Cal Poly's football team competes in the Big Sky Conference; the wrestling \"\n",
            "  'team is a member of the Pac-12 Conference.',\n",
            "  0.7898350809064061),\n",
            " ('In some cases, students wishing to change majors transfer to other '\n",
            "  'universities.',\n",
            "  0.7896633004788663),\n",
            " ('Cal Poly financially supports SLO Transit with funding from parking '\n",
            "  'citation revenue (not from state general funds nor from student tuition), '\n",
            "  'so faculty, staff, and students ride for free.',\n",
            "  0.7893669130133051),\n",
            " ('Cal Poly has many recognized clubs and independent student organizations '\n",
            "  'operating on campus.',\n",
            "  0.7886446261979542),\n",
            " ('In 1933, the Board of Education changed Cal Poly San Luis Obispo into a '\n",
            "  'two-year technical and vocational school.',\n",
            "  0.7872869908483845),\n",
            " ('The institution began to offer Bachelor of Arts degrees in 1940, with the '\n",
            "  'first baccalaureate exercises held in 1942.',\n",
            "  0.7859474263692733),\n",
            " ('Today, the long-running float program still boasts floats designed and '\n",
            "  'constructed entirely by students year-round on both campuses.',\n",
            "  0.7858726867275609),\n",
            " ('Since 1949, the two campuses have cooperated on creating a float for the '\n",
            "  'Rose Parade.',\n",
            "  0.7848018396396584),\n",
            " ('It provides commercial services, fiscal services, and key support services '\n",
            "  'to assist and promote the educational mission of Cal Poly and the '\n",
            "  'California State University System (CSU).',\n",
            "  0.7825853752151579),\n",
            " ('Especially impressive are the engineering clubs and independent student '\n",
            "  'organizations on campus such as Prove Lab, PolySat, CubeSat, and QL+.',\n",
            "  0.7819936995787276),\n",
            " ('Cal Poly Pomona began as a satellite campus of Cal Poly San Luis Obispo in '\n",
            "  '1938 when a completely equipped school and farm were donated by Charles '\n",
            "  'Voorhis and his son Jerry Voorhis of Pasadena, California, and was '\n",
            "  'initially called the Voorhis Unit.',\n",
            "  0.7815952682421622),\n",
            " ('The Mustangs are often ranked in the Top 25 nationwide, and their rugby '\n",
            "  'sevens team has been ranked as high as 7th.',\n",
            "  0.7811796045538818),\n",
            " ('In 2018, the Lambda Chi Alpha fraternity was suspended following a photo '\n",
            "  'surfacing that showed a student wearing blackface.',\n",
            "  0.7808636513631007),\n",
            " ('The ranch provides educational and research opportunities, encompasses '\n",
            "  'rangeland, livestock, and forestry operations for the College of '\n",
            "  \"Agriculture, Food, and Environmental sciences, and fosters Cal Poly's Learn \"\n",
            "  'by Doing teaching philosophy of with emphasis on sustainable management of '\n",
            "  'agricultural practices with a mix of laboratory experiments.',\n",
            "  0.7800421554312987),\n",
            " (\"However, since 2007, the university's endowment has fluctuated \"\n",
            "  'dramatically, going from $181.7 million in 2007 to $130.9 million in 2009, '\n",
            "  'before rebounding to $227.7 million in 2019, the 301st largest of 785 '\n",
            "  'colleges and universities in the United States and Canada.',\n",
            "  0.77902220028674),\n",
            " ('In its most recent survey of available parking spaces on campus, the Cal '\n",
            "  'Poly University Police reported 2,892 general purpose parking spaces, 3,492 '\n",
            "  'dorm resident spaces, and 8,648 total spaces.',\n",
            "  0.7780545276921954),\n",
            " ('The corporation was founded in 1940 and was known as the Cal Poly '\n",
            "  'Foundation until February 1, 2006.',\n",
            "  0.7777006431606391),\n",
            " ('The Cal Poly Recreation Center is the on-campus student recreation center.',\n",
            "  0.7776555704470548),\n",
            " ('All undergraduate students at Cal Poly are required to complete a senior '\n",
            "  'project.',\n",
            "  0.7766762369901793),\n",
            " ('Senior projects have often led to students obtaining jobs or recognition '\n",
            "  'for their work.',\n",
            "  0.7742269320495669),\n",
            " ('Additional community space for the housing complex and the campus wrap the '\n",
            "  'parking structure on three sides.',\n",
            "  0.7739569975403928),\n",
            " ('Jamba Juice, founded as \"Juice Club\", was inspired by the Senior Project '\n",
            "  'idea, but was founded after the founders had graduated.',\n",
            "  0.7731140303338898),\n",
            " ('It replaced the aging \"spider\" Science Building 52, built in the 1950s, '\n",
            "  'with a new 189,000-square-foot (17,600 m2) structure.',\n",
            "  0.7728849284603154),\n",
            " ('Located about one mile (1.6 km) from the Voorhis campus, the two became '\n",
            "  'known as Cal Poly Kellogg-Voorhis.',\n",
            "  0.7693276828177588),\n",
            " (\"The city's SLO Transit bus system provides service to and from campus.\",\n",
            "  0.7690412617515735),\n",
            " ('In 1924, Cal Poly San Luis Obispo was placed under the control of the '\n",
            "  'California State Board of Education.',\n",
            "  0.7679899778558377),\n",
            " ('In 2010, the awareness section of the program won the 2010 National '\n",
            "  'Orientation Directors Association (NODAC) Media & Publications Showcase '\n",
            "  'Award in the Emerging Technologies.',\n",
            "  0.7666283093263397),\n",
            " ('In December, 2017, the chapter voted to surrender its national charter, '\n",
            "  'officially dissolving the chapter.',\n",
            "  0.7651194570461203),\n",
            " ('The school is typically referred to as \"Cal Poly\", or simply \"Poly\".',\n",
            "  0.7649969462777602),\n",
            " ('The $119 million, six-story building was made possible by voter-approved '\n",
            "  'state education bonds and $18 million in private donations.',\n",
            "  0.7646232338113533),\n",
            " ('A $20 million wine and viticulture center is projected to open in 2020.',\n",
            "  0.7636748614369647),\n",
            " ('In May 2018, Zillow estimated that the median home value has increased to '\n",
            "  '$694,027.',\n",
            "  0.7618781079244334),\n",
            " ('On May 25, 1996, Cal Poly student Kristin Smart disappeared without a trace '\n",
            "  'after a birthday party.',\n",
            "  0.7616333607521931),\n",
            " ('Cal Poly San Luis Obispo celebrated its centennial in 2001 and kicked off a '\n",
            "  '$225 million fundraising campaign, the largest fund-raising effort '\n",
            "  'undertaken in CSU history.',\n",
            "  0.7615116336410678),\n",
            " ('Included (a full list available on the Associated Students, Incorporated '\n",
            "  'website) are over 150 groups, including, among many others, cultural clubs '\n",
            "  'and exchanges, mathematics and science clubs, religious and atheistic '\n",
            "  'groups, service organizations, engineering research and development clubs, '\n",
            "  'professional development organizations, a perennial Rose Parade Float '\n",
            "  'design program, LGBTQ+ and Multicultural groups, competitive and social '\n",
            "  'athletic teams, and academic honors clubs.',\n",
            "  0.7606448698005007),\n",
            " ('The academic focus is fostering a comprehensive undergraduate education, '\n",
            "  'combining technical and professional curricula with the arts and '\n",
            "  'humanities.',\n",
            "  0.7588013985406848),\n",
            " ('Cal Poly housed 35.9% of fall 2015 undergraduates in 28 dorms on campus, '\n",
            "  'and 98.7% of first-time freshmen lived on campus.',\n",
            "  0.7576010193183685),\n",
            " ('The Mustangs play college rugby in the California conference of Division '\n",
            "  '1-A.',\n",
            "  0.7570161161439994),\n",
            " ('ASI manages the University Union, Recreation Center, Sports Complex, and '\n",
            "  \"Children's Center, totaling more than 450,000 square feet (42,000 m2) of \"\n",
            "  'campus facilities.',\n",
            "  0.7563495709777954),\n",
            " ('Part of the Cal Poly property is the Swanton Pacific Ranch, a 3,200-acre '\n",
            "  '(1,300 ha) ranch located in Santa Cruz County, California, outside the town '\n",
            "  'of Davenport.',\n",
            "  0.7561725711944336),\n",
            " ('The Associated Students Inc. (ASI) is a 501(c)(3) nonprofit corporation '\n",
            "  'owned and operated by Cal Poly student leaders.',\n",
            "  0.7561346543040021),\n",
            " ('Academic Affairs also includes the Library, Research and Graduate Programs, '\n",
            "  'and Information Technology Services.',\n",
            "  0.7555394504877584),\n",
            " ('Due to continued reductions in state funding, Fall 2011 fees for the '\n",
            "  'average student reached approximately $2,600 per quarter.',\n",
            "  0.7546827954462354),\n",
            " ('This was followed with protests during Open House events for incoming '\n",
            "  'freshmen.',\n",
            "  0.7546175819553462),\n",
            " (\"The university currently offers 65 bachelor's degrees, 39 master's degrees, \"\n",
            "  '84 minors and 13 credentials in six colleges:',\n",
            "  0.7539005874871963),\n",
            " ('At a later date, the house displayed a confederate flag tacked above the '\n",
            "  \"entrance to the house, draped near a hangman's noose while a large \"\n",
            "  'Confederate flag laid painted on a table in front of the house.',\n",
            "  0.7538969611601023),\n",
            " ('On May 4, 2018, President Armstrong announced yet another blackface '\n",
            "  'incident that was mocking the prior incident.',\n",
            "  0.751499419317598),\n",
            " ('The character represented in costume or cartoon is named Musty the Mustang.',\n",
            "  0.7509827092047371),\n",
            " ('Women constituted 51.2% of the incoming freshmen class, men 48.8%.For Fall '\n",
            "  '2018 admitted transfer students, Cal Poly accepted 1,733 of 10,923 '\n",
            "  'applicants, a 15.9% acceptance rate.',\n",
            "  0.7507788388845885),\n",
            " ('When necessary to distinguish between Cal Poly and its former satellite '\n",
            "  'campus, Cal Poly Pomona, the lengthier \"Cal Poly at San Luis Obispo\" is '\n",
            "  'occasionally used.',\n",
            "  0.7483256645116747),\n",
            " ('All buildings house students of all majors.', 0.747316091792747),\n",
            " ('The Cal Poly Foundation leads campus philanthropic activity by supporting '\n",
            "  'fundraising activities and investing and managing the campus endowments.',\n",
            "  0.746667213937424),\n",
            " (\"The California State University system's style guide identifies the \"\n",
            "  'university as \"California Polytechnic State University, San Luis Obispo\" '\n",
            "  'and the elided \"Cal Poly San Luis Obispo.\"',\n",
            "  0.745317546773552),\n",
            " ('California Master Plan for Higher Education', 0.7452627688179175),\n",
            " ('In 1903, Cal Poly San Luis Obispo opened as a coeducational school with 20 '\n",
            "  'students enrolled, 16 new male students and 4 new female students.',\n",
            "  0.7449735509972311),\n",
            " ('On October 29, 1960, a chartered plane carrying the Cal Poly San Luis '\n",
            "  'Obispo football team, hours after a loss to Bowling Green State University, '\n",
            "  'crashed on takeoff at the Toledo Express Airport in Toledo, Ohio.',\n",
            "  0.7447583871390872),\n",
            " ('For comparison, the Spring 2002 fees for the average student were $760 per '\n",
            "  'quarter.',\n",
            "  0.7422150924644889),\n",
            " ('Discounted passes are available to the Cal Poly community.',\n",
            "  0.7410199804260291),\n",
            " ('Cal Poly San Luis Obispo primarily focuses on undergraduate education and '\n",
            "  'as of fall 2018 Cal Poly has 21,037 undergraduate and 775 graduate '\n",
            "  'students.',\n",
            "  0.7394082888162956),\n",
            " ('Cal Poly San Luis Obispo was established as the California Polytechnic '\n",
            "  'School in 1901 when Governor Henry T. Gage signed the California '\n",
            "  'Polytechnic School Bill after a campaign by journalist Myron Angel.',\n",
            "  0.739222586146245),\n",
            " ('In July 2011, a company created from a Senior Project, Punchd, was acquired '\n",
            "  'by Google.',\n",
            "  0.7388596904737943),\n",
            " ('Orfalea College of Business', 0.7376863065867583),\n",
            " ('Bus service throughout the county is provided by SLO Regional Transit '\n",
            "  'Authority.',\n",
            "  0.7374868488022146),\n",
            " ('Located at the corner of Slack Street and Grand Avenue, it consists of '\n",
            "  'seven 3- to 5-story concrete framed freshman residence hall buildings with '\n",
            "  '1,475 beds and an adjacent four-level parking structure.',\n",
            "  0.7350544837739408),\n",
            " ('Twenty-two of the 48 people on board were killed, including 16 players.',\n",
            "  0.734375641173015),\n",
            " ('The activity drew heavily intoxicated crowds that began to get unruly.',\n",
            "  0.7341461391828161),\n",
            " ('The next day, dumpsters were set on fire during more rioting and 127 people '\n",
            "  'were arrested.',\n",
            "  0.7339921601737501),\n",
            " ('The association includes 15 regional and special interest chapters.',\n",
            "  0.7286304152693256),\n",
            " ('Growth is attributed to gifts and prudent stewardship.', 0.7284291890615292),\n",
            " ('Cal Poly fields 21 varsity sports (10 for men and 11 for women) and '\n",
            "  \"participates in the NCAA's Division I.\",\n",
            "  0.7274035573196155),\n",
            " (\"According to PayScale's projections, Cal Poly has a 20-year net return on \"\n",
            "  'investment of $699,000.',\n",
            "  0.7272048778798351),\n",
            " ('Campus parking is limited.', 0.7270035850831205),\n",
            " ('After unsuccessfully attempting to disperse the crowd, a mob began looting '\n",
            "  'the nearby Campus Bottle Shoppe.',\n",
            "  0.7257488673324383),\n",
            " ('College of Agriculture, Food and Environmental Sciences',\n",
            "  0.7241510068298563),\n",
            " ('The six \"red-brick\" halls were completed shortly afterward in 1959.',\n",
            "  0.7234738953266279),\n",
            " ('Loans comprised 55.6% of the financial aid, 31.2% came in the form of '\n",
            "  'grants, and 10.2% in scholarships.',\n",
            "  0.7229469957930982),\n",
            " ('College of Science and Mathematics', 0.7219445809492769),\n",
            " ('Prior to joining Division I in 1994, the school won 35 NCAA Division II '\n",
            "  'national team championships and competed in the NCAA Division II California '\n",
            "  'Collegiate Athletic Association (CCAA).',\n",
            "  0.7216408572377351),\n",
            " ('The Mustangs finished 8th in the nation at the 2011 USA Rugby Sevens '\n",
            "  'Collegiate National Championships, and 12th at the 2012 competition.',\n",
            "  0.7166923443434875),\n",
            " ('Greek organizations have been at Cal Poly since 1949.', 0.7160293077415752),\n",
            " ('College of Liberal Arts', 0.7133852974225047),\n",
            " ('ASI has an annual operating budget in excess of $12 million.',\n",
            "  0.711910647312076),\n",
            " ('College of Architecture and Environmental Design', 0.7107931174126672),\n",
            " ('The Centennial Campaign raised over $264 million from over 81,000 donors, '\n",
            "  \"more than tripling the university's endowment from $43 million to over $140 \"\n",
            "  'million.',\n",
            "  0.7044689620459562),\n",
            " ('The amount of financial aid awarded in 2014–15 totaled $151.5 million, of '\n",
            "  'which 64.3% came from federal funds, 11.9% came from state funds and 17.5% '\n",
            "  'came from institutional funds.',\n",
            "  0.7035861962840575),\n",
            " ('Cal Poly has more than 150,000 alumni with the majority located in San Luis '\n",
            "  'Obispo, Santa Clara and Los Angeles counties.',\n",
            "  0.7007020884172499),\n",
            " ('Cal Poly Kellogg-Voorhis broke off from Cal Poly in 1966, becoming the '\n",
            "  'fully independent university, California State Polytechnic University, '\n",
            "  'Pomona (Cal Poly Pomona).',\n",
            "  0.6962794763931729),\n",
            " ('On April 29, 1990, San Luis Obispo police responded to a call of a '\n",
            "  'bicyclist down at around 11pm.',\n",
            "  0.6920110250424718),\n",
            " ('The Greek community consists of three governing councils at Cal Poly: '\n",
            "  'United Sorority and Fraternity Council (USFC), Interfraternity Council '\n",
            "  '(IFC), and Panhellenic Association (PHA).',\n",
            "  0.6899793718643059),\n",
            " ('Thus, \"San Luis Obispo State University\" or \"California State University, '\n",
            "  'San Luis Obispo\" are seldom used.',\n",
            "  0.6898305286244009),\n",
            " ('College of Engineering', 0.6863518661828761),\n",
            " (\"Cal Poly San Luis Obispo's FM radio station, KCPR,  began as a senior \"\n",
            "  'project in 1968.',\n",
            "  0.6760392475923679),\n",
            " ('The Sierra Madre and Yosemite halls were finished by 1968, and the Cerro '\n",
            "  'Vista Apartments were completed in 2003.',\n",
            "  0.6759831920087214),\n",
            " ('These spaces include a small café, community room, game room, mail room, '\n",
            "  'welcome center, offices, and maintenance shop.',\n",
            "  0.6724338432168204),\n",
            " ('The city of San Luis Obispo is 84.5% white.', 0.6641761452626677),\n",
            " ('ASI provides co-curricular experiences for students, faculty, and staff, '\n",
            "  'including events, speakers, concerts, intramural sports, fitness programs, '\n",
            "  'aquatics, outdoor adventure trips, craft center enrichment courses, club '\n",
            "  'services, and child development.',\n",
            "  0.6581316995219627),\n",
            " (\"Cal Poly's endowment more than tripled during its Centennial Campaign from \"\n",
            "  '$43.1 million to $140.1 million.',\n",
            "  0.6508410094370811),\n",
            " ('In 2017, the median home price in San Luis Obispo was $530,000.',\n",
            "  0.648247352776097),\n",
            " ('Governor; Devin Nunes, U.S. Representative; Peter Oppenheimer, Chief '\n",
            "  'Financial Officer of Apple Inc.; Farzad Nazem, Chief Technology Officer of '\n",
            "  'Yahoo; Linda Ozawa, founder of Jamba Juice; Richard Bergquist, founder of '\n",
            "  'PeopleSoft; Gary Erickson, founder of Clif Bar; Noel Lee, founder of '\n",
            "  'Monster Cable; William Swanson, CEO and founder of Raytheon; Burt Rutan, '\n",
            "  'aerospace pioneer; Weird Al Yankovic, comedic musician; and John Madden, '\n",
            "  'NFL Hall of Fame coach, David Nwaba, shooting guard for the Brooklyn Nets, '\n",
            "  'Ozzie Smith, Baseball Hall of Fame Major League Baseball player, and NASA '\n",
            "  'Astronaut Victor Glover.',\n",
            "  0.6423019936105554),\n",
            " ('Kellogg Foundation then donated an 812-acre (329 ha) horse ranch in Pomona, '\n",
            "  'California to Cal Poly San Luis Obispo in 1949.',\n",
            "  0.622511596278075),\n",
            " ('Pflueger, Donald (1999) [1991], California State Polytechnic University, '\n",
            "  'Pomona: A Legacy and a Mission, Spokane, Washington: Arthur H. Clark '\n",
            "  'Company, ISBN 0-9622822-1-9, OCLC 43853707',\n",
            "  0.6046888573953567),\n",
            " ('In 2019, Forbes magazine rated Cal Poly No.', 0.6002276424373819),\n",
            " ('=== Racial and economic diversity of student body ===', 0.5975699010419389),\n",
            " ('Cal Poly has two mascots.', 0.5960018491964861),\n",
            " ('California Polytechnic State University (California Polytechnic State '\n",
            "  'University, San Luis Obispo, Cal Poly San Luis Obispo, or Cal Poly) is a '\n",
            "  'public university in San Luis Obispo, California.',\n",
            "  0.5795715668302958),\n",
            " ('Leaning Pine Arboretum, north campus', 0.5613924386829877),\n",
            " ('Civil Engineering: 3rd', 0.5435880352306295),\n",
            " ('Alumni include Abel Maldonado, Former California Lt.', 0.535099902815761),\n",
            " ('== Relations with local community ==', 0.5251908264623776),\n",
            " ('Computer Engineering: 2nd', 0.5165461172664336),\n",
            " ('Official website', 0.5071061964201793),\n",
            " ('=== Clubs and independent student organizations ===', 0.49040430548551533),\n",
            " ('Industrial Engineering: 1st', 0.4772625623563675),\n",
            " ('=== Week of Welcome orientation program ===', 0.46756234866270413),\n",
            " ('Cal Poly Athletics website', 0.4649585321996735),\n",
            " ('Margaret Chase (Acting), 1924', 0.46107341404677965),\n",
            " ('Electrical Engineering: 2nd', 0.4451065791973003),\n",
            " ('== Student life ==', 0.43703817109411097),\n",
            " ('== Directors and presidents ==', 0.4207556570109023),\n",
            " ('=== 1960 football team plane crash ===', 0.41495679647187894),\n",
            " ('Dale W. Andrews (acting), 1966–1967', 0.41434321223808024),\n",
            " ('== Incidents and controversies ==', 0.40169718409616323),\n",
            " ('== Administrative organization ==', 0.39500879065370803),\n",
            " ('== See also ==', 0.39317335581955193),\n",
            " (\"=== Bachelor's projects ===\", 0.3824256059373085),\n",
            " ('==== Current and planned construction ====', 0.38133687816134054),\n",
            " ('=== Crops House incident ===', 0.3702379725738459),\n",
            " ('=== Disappearance of Kristin Smart ===', 0.36994671397159967),\n",
            " ('=== Cal Poly Extended Education ===', 0.3642767006034678),\n",
            " ('=== Four administrative divisions ===', 0.36290458909394807),\n",
            " ('Robert Glidden (Acting), 2010–2011', 0.3609424244401871),\n",
            " ('=== Relationship with Cal Poly Pomona ===', 0.35639948353565215),\n",
            " ('== Notable alumni ==', 0.3543723351743214),\n",
            " ('=== Associated Students Inc. ===', 0.35005462313589836),\n",
            " ('Robert E. Kennedy, 1967–1979', 0.3439694086189295),\n",
            " ('=== Cal Poly Recreation Center ===', 0.3405449557804319),\n",
            " ('== Campus ==', 0.3343552644405682),\n",
            " ('=== Female admissions ===', 0.3320872521470235),\n",
            " ('Warren J. Baker, 1979–2010', 0.32937793015781036),\n",
            " ('== External links ==', 0.3284634812111488),\n",
            " ('== History ==', 0.3259497090331342),\n",
            " ('=== Greek life ===', 0.3252417987021127),\n",
            " ('== Financial ==', 0.32269033591876845),\n",
            " ('=== Alumni Association ===', 0.3212492460755654),\n",
            " ('=== Poly Royal Riots ===', 0.3211462147507268),\n",
            " ('=== Residence halls ===', 0.31952513767105917),\n",
            " ('=== Pi Kappa Alpha fraternity suspension ===', 0.3165154189505287),\n",
            " ('== Academics ==', 0.3021540374757051),\n",
            " ('=== Cal Poly Foundation ===', 0.30177101856625993),\n",
            " ('==== Recent construction ====', 0.29851077010711946),\n",
            " ('=== Cal Poly Corporation ===', 0.29726138865632085),\n",
            " ('== Name ==', 0.2920762094783255),\n",
            " ('Leroy Burns Smith, 1908–1914', 0.2913161063813429),\n",
            " ('=== Colleges ===', 0.2887689082265125),\n",
            " ('== Athletics ==', 0.2869114702052291),\n",
            " ('=== Admissions ===', 0.2722720505640757),\n",
            " ('=== Tuition ===', 0.27183627420864304),\n",
            " ('=== Expansion ===', 0.26757781695334776),\n",
            " ('== References ==', 0.2661514911956075),\n",
            " ('=== Blackface incident ===', 0.26558734522243443),\n",
            " ('=== Endowment ===', 0.2618128961947896),\n",
            " ('=== Sources ===', 0.26042821549389317),\n",
            " ('=== Rankings ===', 0.2575895372849711),\n",
            " ('Jeffrey D. Armstrong, 2011–present', 0.25374084256863694),\n",
            " ('Nicholas Ricciardi, 1921–1924', 0.24869963217991592),\n",
            " ('=== Commuting ===', 0.24857626300710747),\n",
            " ('=== Notes ===', 0.24570810479629754),\n",
            " ('=== Citations ===', 0.23715521812601686),\n",
            " ('Julian A. McPhee, 1933–1966', 0.23630554125726555),\n",
            " ('Robert Weir Ryder, 1914–1921', 0.2316102120606601),\n",
            " ('Leroy Anderson, 1902–1907', 0.19170528433538303),\n",
            " ('Benjamin Ray Crandall, 1924–1933', 0.15879767175362833),\n",
            " ('The W.K.', 0.14755902269364912)]\n"
          ],
          "name": "stdout"
        }
      ]
    },
    {
      "cell_type": "code",
      "metadata": {
        "id": "nt2nAdui1VKL",
        "colab_type": "code",
        "outputId": "54697313-3235-46c0-e7bc-932b87621313",
        "colab": {
          "base_uri": "https://localhost:8080/",
          "height": 527
        }
      },
      "source": [
        "pprint(sorted(infobox_similarity.items(), key = \n",
        "             lambda kv:(kv[1], kv[0]), reverse=True))"
      ],
      "execution_count": 30,
      "outputs": [
        {
          "output_type": "stream",
          "text": [
            "[('type Public University and Space-grant university', 0.7948758349361857),\n",
            " ('affiliations California State University | American Association of State '\n",
            "  'Colleges and Universities | Association of Public and Land-Grant '\n",
            "  'Universities',\n",
            "  0.765226243033916),\n",
            " ('country United States', 0.6747147599404637),\n",
            " ('name California Polytechnic State University', 0.6683719481013191),\n",
            " ('english motto Learn by Doing', 0.6645101867717298),\n",
            " ('campus Suburban, 9,678 acres (3,917 ha) Total; 1,321 acres (535 ha) for the '\n",
            "  'Main Campus; 155 acres (63 ha) for the Campus Core',\n",
            "  0.648299745361463),\n",
            " ('athletics National Collegiate Athletic Association | NCAA Division I | '\n",
            "  'Football Championship Subdivision | Big West Conference',\n",
            "  0.5928908104369979),\n",
            " ('state California', 0.5517238985862338),\n",
            " ('students 21,242 (Fall 2019)', 0.5379765324216425),\n",
            " ('mascots Chase the Mustang, Musty the Mustang', 0.5309994455214994),\n",
            " ('colors Green and Gold', 0.508922575680383),\n",
            " ('established March 8, 1901', 0.5053395260086393),\n",
            " ('undergrad 20,453 (Fall 2019)', 0.4608817580601942),\n",
            " ('faculty 1,426 (Fall 2018)', 0.44704461523382544),\n",
            " ('website www.calpoly.edu', 0.4245601244654619),\n",
            " ('staff 1,659 (Fall 2018)', 0.4166715903086443),\n",
            " ('nickname Cal Poly Mustangs or Mustangs', 0.34298243285045177),\n",
            " ('postgrad 789 (Fall 2019)', 0.3153923426046951),\n",
            " ('provost Mary Pedersen (interim)', 0.30511136542567696),\n",
            " ('motto Discere Faciendo', 0.2945202930539122),\n",
            " ('president Jeffrey Armstrong', 0.2859623113497912),\n",
            " ('endowment $227.7 million (2019)', 0.28370080721562446),\n",
            " ('city San Luis Obispo', 0.2737076527099131)]\n"
          ],
          "name": "stdout"
        }
      ]
    },
    {
      "cell_type": "markdown",
      "metadata": {
        "id": "V3sgc9zxBmdj",
        "colab_type": "text"
      },
      "source": [
        "### Named Entity Recognition"
      ]
    },
    {
      "cell_type": "code",
      "metadata": {
        "id": "MGFbppCtrvQP",
        "colab_type": "code",
        "outputId": "514bc755-7f84-41f6-9955-1641abd20256",
        "colab": {
          "base_uri": "https://localhost:8080/",
          "height": 102
        }
      },
      "source": [
        "doc = nlp(samp_sent)\n",
        "pprint([(X.text, X.label_) for X in doc.ents])"
      ],
      "execution_count": 45,
      "outputs": [
        {
          "output_type": "stream",
          "text": [
            "[('San Luis Obispo', 'GPE'),\n",
            " ('California', 'GPE'),\n",
            " ('one', 'CARDINAL'),\n",
            " ('the United States', 'GPE'),\n",
            " ('Silicon Valley', 'LOC')]\n"
          ],
          "name": "stdout"
        }
      ]
    },
    {
      "cell_type": "code",
      "metadata": {
        "id": "TqrhfZI6wKAK",
        "colab_type": "code",
        "outputId": "66d8541d-b07a-4e08-f55e-87ab9c118c86",
        "colab": {
          "base_uri": "https://localhost:8080/",
          "height": 87
        }
      },
      "source": [
        "displacy.render(nlp(samp_sent), jupyter=True, style='ent')"
      ],
      "execution_count": 46,
      "outputs": [
        {
          "output_type": "display_data",
          "data": {
            "text/html": [
              "<div class=\"entities\" style=\"line-height: 2.5; direction: ltr\">The university is located in \n",
              "<mark class=\"entity\" style=\"background: #feca74; padding: 0.45em 0.6em; margin: 0 0.25em; line-height: 1; border-radius: 0.35em; box-decoration-break: clone; -webkit-box-decoration-break: clone\">\n",
              "    San Luis Obispo\n",
              "    <span style=\"font-size: 0.8em; font-weight: bold; line-height: 1; border-radius: 0.35em; text-transform: uppercase; vertical-align: middle; margin-left: 0.5rem\">GPE</span>\n",
              "</mark>\n",
              ", \n",
              "<mark class=\"entity\" style=\"background: #feca74; padding: 0.45em 0.6em; margin: 0 0.25em; line-height: 1; border-radius: 0.35em; box-decoration-break: clone; -webkit-box-decoration-break: clone\">\n",
              "    California\n",
              "    <span style=\"font-size: 0.8em; font-weight: bold; line-height: 1; border-radius: 0.35em; text-transform: uppercase; vertical-align: middle; margin-left: 0.5rem\">GPE</span>\n",
              "</mark>\n",
              ", often noted as \n",
              "<mark class=\"entity\" style=\"background: #e4e7d2; padding: 0.45em 0.6em; margin: 0 0.25em; line-height: 1; border-radius: 0.35em; box-decoration-break: clone; -webkit-box-decoration-break: clone\">\n",
              "    one\n",
              "    <span style=\"font-size: 0.8em; font-weight: bold; line-height: 1; border-radius: 0.35em; text-transform: uppercase; vertical-align: middle; margin-left: 0.5rem\">CARDINAL</span>\n",
              "</mark>\n",
              " of the happiest cities in \n",
              "<mark class=\"entity\" style=\"background: #feca74; padding: 0.45em 0.6em; margin: 0 0.25em; line-height: 1; border-radius: 0.35em; box-decoration-break: clone; -webkit-box-decoration-break: clone\">\n",
              "    the United States\n",
              "    <span style=\"font-size: 0.8em; font-weight: bold; line-height: 1; border-radius: 0.35em; text-transform: uppercase; vertical-align: middle; margin-left: 0.5rem\">GPE</span>\n",
              "</mark>\n",
              ", with many alumni in \n",
              "<mark class=\"entity\" style=\"background: #ff9561; padding: 0.45em 0.6em; margin: 0 0.25em; line-height: 1; border-radius: 0.35em; box-decoration-break: clone; -webkit-box-decoration-break: clone\">\n",
              "    Silicon Valley\n",
              "    <span style=\"font-size: 0.8em; font-weight: bold; line-height: 1; border-radius: 0.35em; text-transform: uppercase; vertical-align: middle; margin-left: 0.5rem\">LOC</span>\n",
              "</mark>\n",
              ".</div>"
            ],
            "text/plain": [
              "<IPython.core.display.HTML object>"
            ]
          },
          "metadata": {
            "tags": []
          }
        }
      ]
    },
    {
      "cell_type": "code",
      "metadata": {
        "id": "DVTohXoYxD4-",
        "colab_type": "code",
        "outputId": "aeaf214b-e175-4a7d-c014-461d04a1e052",
        "colab": {
          "base_uri": "https://localhost:8080/",
          "height": 255
        }
      },
      "source": [
        "[(x.orth_,x.pos_, x.lemma_) for x in [y \n",
        "                                      for y\n",
        "                                      in doc \n",
        "                                      if not y.is_stop and y.pos_ != 'PUNCT']]"
      ],
      "execution_count": 47,
      "outputs": [
        {
          "output_type": "execute_result",
          "data": {
            "text/plain": [
              "[('university', 'NOUN', 'university'),\n",
              " ('located', 'VERB', 'locate'),\n",
              " ('San', 'PROPN', 'San'),\n",
              " ('Luis', 'PROPN', 'Luis'),\n",
              " ('Obispo', 'PROPN', 'Obispo'),\n",
              " ('California', 'PROPN', 'California'),\n",
              " ('noted', 'VERB', 'note'),\n",
              " ('happiest', 'ADJ', 'happy'),\n",
              " ('cities', 'NOUN', 'city'),\n",
              " ('United', 'PROPN', 'United'),\n",
              " ('States', 'PROPN', 'States'),\n",
              " ('alumni', 'NOUN', 'alumnus'),\n",
              " ('Silicon', 'PROPN', 'Silicon'),\n",
              " ('Valley', 'PROPN', 'Valley')]"
            ]
          },
          "metadata": {
            "tags": []
          },
          "execution_count": 47
        }
      ]
    },
    {
      "cell_type": "code",
      "metadata": {
        "id": "JubfO6AhxKc4",
        "colab_type": "code",
        "outputId": "9353b7d2-c70d-4d60-b1f8-f2af1e636372",
        "colab": {
          "base_uri": "https://localhost:8080/",
          "height": 102
        }
      },
      "source": [
        "dict([(str(x), x.label_) for x in doc.ents])\n"
      ],
      "execution_count": 48,
      "outputs": [
        {
          "output_type": "execute_result",
          "data": {
            "text/plain": [
              "{'California': 'GPE',\n",
              " 'San Luis Obispo': 'GPE',\n",
              " 'Silicon Valley': 'LOC',\n",
              " 'one': 'CARDINAL',\n",
              " 'the United States': 'GPE'}"
            ]
          },
          "metadata": {
            "tags": []
          },
          "execution_count": 48
        }
      ]
    },
    {
      "cell_type": "markdown",
      "metadata": {
        "id": "DvotttJACkAi",
        "colab_type": "text"
      },
      "source": [
        "### TF-IDF"
      ]
    },
    {
      "cell_type": "code",
      "metadata": {
        "id": "QDRCop1HClpu",
        "colab_type": "code",
        "colab": {}
      },
      "source": [
        "# Computes TF for a sentence\n",
        "def computeTF(sent):\n",
        "    words = nltk.word_tokenize(sent)\n",
        "    word_count = {}\n",
        "    for word in words:\n",
        "        if word in stopwords.words('english'):\n",
        "            continue\n",
        "        if word in string.punctuation:\n",
        "            continue\n",
        "        if word not in word_count.keys():\n",
        "            word_count[word] = 1.0\n",
        "        else:\n",
        "            word_count[word] += 1.0\n",
        "    for word in word_count.keys():\n",
        "        word_count[word]/= len(words)\n",
        "    return sorted(word_count.items(), key = \n",
        "             lambda kv:(kv[1], kv[0]), reverse=True)"
      ],
      "execution_count": 0,
      "outputs": []
    },
    {
      "cell_type": "code",
      "metadata": {
        "id": "goi3q81Zkoug",
        "colab_type": "code",
        "outputId": "849993da-0584-4b8b-fbd0-6d37914fae80",
        "colab": {
          "base_uri": "https://localhost:8080/",
          "height": 323
        }
      },
      "source": [
        "computeTF(samp_sent)"
      ],
      "execution_count": 50,
      "outputs": [
        {
          "output_type": "execute_result",
          "data": {
            "text/plain": [
              "[('university', 0.03225806451612903),\n",
              " ('one', 0.03225806451612903),\n",
              " ('often', 0.03225806451612903),\n",
              " ('noted', 0.03225806451612903),\n",
              " ('many', 0.03225806451612903),\n",
              " ('located', 0.03225806451612903),\n",
              " ('happiest', 0.03225806451612903),\n",
              " ('cities', 0.03225806451612903),\n",
              " ('alumni', 0.03225806451612903),\n",
              " ('Valley', 0.03225806451612903),\n",
              " ('United', 0.03225806451612903),\n",
              " ('The', 0.03225806451612903),\n",
              " ('States', 0.03225806451612903),\n",
              " ('Silicon', 0.03225806451612903),\n",
              " ('San', 0.03225806451612903),\n",
              " ('Obispo', 0.03225806451612903),\n",
              " ('Luis', 0.03225806451612903),\n",
              " ('California', 0.03225806451612903)]"
            ]
          },
          "metadata": {
            "tags": []
          },
          "execution_count": 50
        }
      ]
    },
    {
      "cell_type": "markdown",
      "metadata": {
        "id": "UJ-9o2-CkmPj",
        "colab_type": "text"
      },
      "source": [
        "#### TF-IDF for paragraphs"
      ]
    },
    {
      "cell_type": "code",
      "metadata": {
        "id": "-8Dmp7CZErir",
        "colab_type": "code",
        "outputId": "30717934-e288-4441-d1d9-52480504bd67",
        "colab": {
          "base_uri": "https://localhost:8080/",
          "height": 105
        }
      },
      "source": [
        "import datetime, re, sys\n",
        "from sklearn.feature_extraction.text import TfidfVectorizer\n",
        "from nltk.stem.snowball import SnowballStemmer\n",
        "\n",
        "tokens = [word for sent in nltk.sent_tokenize(wikipedia.page('california polytechnic school').section('History')) for word in nltk.word_tokenize(sent)]\n",
        "\n",
        "stemmer = SnowballStemmer(\"english\")\n",
        "stemmed_tokens = [stemmer.stem(t) for t in tokens]\n",
        "\n",
        "def tokenize_and_stem(text):\n",
        "    tokens = [word for sent in nltk.sent_tokenize(text) for word in nltk.word_tokenize(sent)]\n",
        "    filtered_tokens = []\n",
        "    # filter out any tokens not containing letters (e.g., numeric tokens, raw punctuation)\n",
        "    for token in tokens:\n",
        "        if re.search('[a-zA-Z]', token):\n",
        "            filtered_tokens.append(token)\n",
        "    stems = [stemmer.stem(t) for t in filtered_tokens]\n",
        "    return stems\n",
        "\n",
        "token_dict = {}\n",
        "split_wikipedia = wikipedia.page('california polytechnic school').section('History').split(\"\\n\")\n",
        "for i,sent in enumerate(wikipedia.page('california polytechnic school').section('History').split(\"\\n\")):\n",
        "    token_dict[str(i)] = sent\n",
        "        \n",
        "tfidf = TfidfVectorizer(tokenizer=tokenize_and_stem, stop_words='english', decode_error='ignore')\n",
        "print(\"building term-document matrix... [process started: \" + str(datetime.datetime.now()) + ']')\n",
        "sys.stdout.flush()\n",
        "\n",
        "tdm = tfidf.fit_transform(token_dict.values()) # this can take some time (about 60 seconds on my machine)\n",
        "print('done! [process finished: ' + str(datetime.datetime.now()) + ']')"
      ],
      "execution_count": 51,
      "outputs": [
        {
          "output_type": "stream",
          "text": [
            "building term-document matrix... [process started: 2020-03-10 22:57:54.331488]\n",
            "done! [process finished: 2020-03-10 22:57:54.383931]\n"
          ],
          "name": "stdout"
        },
        {
          "output_type": "stream",
          "text": [
            "/usr/local/lib/python3.6/dist-packages/sklearn/feature_extraction/text.py:385: UserWarning: Your stop_words may be inconsistent with your preprocessing. Tokenizing the stop words generated tokens ['abov', 'afterward', 'alon', 'alreadi', 'alway', 'ani', 'anoth', 'anyon', 'anyth', 'anywher', 'becam', 'becaus', 'becom', 'befor', 'besid', 'cri', 'describ', 'dure', 'els', 'elsewher', 'empti', 'everi', 'everyon', 'everyth', 'everywher', 'fifti', 'forti', 'henc', 'hereaft', 'herebi', 'howev', 'hundr', 'inde', 'mani', 'meanwhil', 'moreov', 'nobodi', 'noon', 'noth', 'nowher', 'onc', 'onli', 'otherwis', 'ourselv', 'perhap', 'pleas', 'sever', 'sinc', 'sincer', 'sixti', 'someon', 'someth', 'sometim', 'somewher', 'themselv', 'thenc', 'thereaft', 'therebi', 'therefor', 'togeth', 'twelv', 'twenti', 'veri', 'whatev', 'whenc', 'whenev', 'wherea', 'whereaft', 'wherebi', 'wherev', 'whi', 'yourselv'] not in stop_words.\n",
            "  'stop_words.' % sorted(inconsistent))\n"
          ],
          "name": "stderr"
        }
      ]
    },
    {
      "cell_type": "code",
      "metadata": {
        "id": "GOqzJk77I17r",
        "colab_type": "code",
        "outputId": "862b1791-38da-4eca-aaa6-91580ba67ca6",
        "colab": {
          "base_uri": "https://localhost:8080/",
          "height": 136
        }
      },
      "source": [
        "from random import randint\n",
        "\n",
        "feature_names = tfidf.get_feature_names()\n",
        "print('TDM contains ' + str(len(feature_names)) + ' terms and ' + str(tdm.shape[0]) + ' documents')\n",
        "\n",
        "print('first term: ' + feature_names[0])\n",
        "print('last term: ' + feature_names[len(feature_names) - 1])\n",
        "\n",
        "for i in range(0, 4):\n",
        "    print('random term: ' + feature_names[randint(1,len(feature_names) - 2)])"
      ],
      "execution_count": 52,
      "outputs": [
        {
          "output_type": "stream",
          "text": [
            "TDM contains 129 terms and 4 documents\n",
            "first term: 's\n",
            "last term: year\n",
            "random term: bachelor\n",
            "random term: cal\n",
            "random term: institut\n",
            "random term: agricultur\n"
          ],
          "name": "stdout"
        }
      ]
    },
    {
      "cell_type": "code",
      "metadata": {
        "id": "0g93R2slJAmt",
        "colab_type": "code",
        "outputId": "c67bce0a-600b-44ab-f013-5a1949180203",
        "colab": {
          "base_uri": "https://localhost:8080/",
          "height": 255
        }
      },
      "source": [
        "import math\n",
        "from __future__ import division\n",
        "\n",
        "article_id = 0\n",
        "article_text = wikipedia.page('california polytechnic school').section('History').split(\"\\n\")[0]\n",
        "\n",
        "sent_scores = []\n",
        "for sentence in nltk.sent_tokenize(article_text):\n",
        "    score = 0\n",
        "    sent_tokens = tokenize_and_stem(sentence)\n",
        "    for token in (t for t in sent_tokens if t in feature_names):\n",
        "        score += tdm[article_id, feature_names.index(token)]\n",
        "    sent_scores.append((score / len(sent_tokens), sentence))\n",
        "\n",
        "summary_length = int(math.ceil(len(sent_scores) / 5))\n",
        "sent_scores.sort(key=lambda sent: sent[0])\n",
        "\n",
        "print('*** SUMMARY ***')\n",
        "for summary_sentence in sent_scores[:summary_length]:\n",
        "    pprint(summary_sentence[1])\n",
        "\n",
        "print('\\n*** ORIGINAL ***')\n",
        "pprint(article_text)"
      ],
      "execution_count": 53,
      "outputs": [
        {
          "output_type": "stream",
          "text": [
            "*** SUMMARY ***\n",
            "('The school continued to grow steadily, except during a period from the mid '\n",
            " '1910s to the early 1920s when World War I led to drops in enrollment and '\n",
            " 'drastic budget cuts forced fewer class offerings.')\n",
            "\n",
            "*** ORIGINAL ***\n",
            "('Cal Poly San Luis Obispo was established as the California Polytechnic '\n",
            " 'School in 1901 when Governor Henry T. Gage signed the California Polytechnic '\n",
            " 'School Bill after a campaign by journalist Myron Angel. The polytechnic '\n",
            " 'school held its first classes on October 1, 1903 to 20 students, offering '\n",
            " 'secondary level courses of study, which took three years to complete. The '\n",
            " 'school continued to grow steadily, except during a period from the mid 1910s '\n",
            " 'to the early 1920s when World War I led to drops in enrollment and drastic '\n",
            " 'budget cuts forced fewer class offerings.')\n"
          ],
          "name": "stdout"
        }
      ]
    },
    {
      "cell_type": "markdown",
      "metadata": {
        "id": "lugxfiUMDBFv",
        "colab_type": "text"
      },
      "source": [
        "## Result: Function to generate important info per sentence\n",
        "- Noun Chunking\n",
        "- Named Entity Recognition\n",
        "- POS Tagging"
      ]
    },
    {
      "cell_type": "code",
      "metadata": {
        "id": "la0y4Su8FJ9i",
        "colab_type": "code",
        "colab": {}
      },
      "source": [
        "# Computes TF for a sentence\n",
        "def computeTF(sent):\n",
        "    words = nltk.word_tokenize(sent)\n",
        "    word_count = {}\n",
        "    for word in words:\n",
        "        if word in stopwords.words('english'):\n",
        "            continue\n",
        "        if word in string.punctuation:\n",
        "            continue\n",
        "        if word not in word_count.keys():\n",
        "            word_count[word] = 1.0\n",
        "        else:\n",
        "            word_count[word] += 1.0\n",
        "    for word in word_count.keys():\n",
        "        word_count[word]/= len(words)\n",
        "    return sorted(word_count.items(), key = \n",
        "             lambda kv:(kv[1], kv[0]), reverse=True)"
      ],
      "execution_count": 0,
      "outputs": []
    },
    {
      "cell_type": "code",
      "metadata": {
        "id": "XbIW_OaPDNtr",
        "colab_type": "code",
        "colab": {}
      },
      "source": [
        "# Given a sentence, return it's important information\n",
        "#   - Noun Chunking\n",
        "#   - Named Entity Recognition\n",
        "#   - POS Tagging\n",
        "#   - Term Frequency\n",
        "#   - Raw Text \n",
        "\n",
        "def generate_info(sent):\n",
        "    returned_data = {}\n",
        "    doc = nlp(sent)\n",
        "    returned_data['TF'] = computeTF(sent)\n",
        "    returned_data['nn_chunking'] = [str(word) for word in doc.noun_chunks]\n",
        "    returned_data['ner'] = {str(x):x.label_ for x in doc.ents}\n",
        "    returned_data['pos'] = [(str(word), word.pos_) for word in doc]\n",
        "    returned_data['raw'] = sent\n",
        "    return returned_data"
      ],
      "execution_count": 0,
      "outputs": []
    },
    {
      "cell_type": "code",
      "metadata": {
        "id": "kYhtU1nIGr3b",
        "colab_type": "code",
        "colab": {}
      },
      "source": [
        "for section in data:\n",
        "    sentences = nltk.sent_tokenize(data[section]['content'])\n",
        "    data[section]['parsed_sent'] = {}\n",
        "    for i, sent in enumerate(sentences):\n",
        "        data[section]['parsed_sent'][str(i)] = generate_info(sent)"
      ],
      "execution_count": 0,
      "outputs": []
    },
    {
      "cell_type": "code",
      "metadata": {
        "id": "DYFkmZJOJER-",
        "colab_type": "code",
        "colab": {}
      },
      "source": [
        "with open('data_wInfo.json', 'w') as f:\n",
        "    json.dump(data, f)"
      ],
      "execution_count": 0,
      "outputs": []
    },
    {
      "cell_type": "markdown",
      "metadata": {
        "id": "V8iTPtWyqFYe",
        "colab_type": "text"
      },
      "source": [
        "# Understanding Queries\n",
        "\n",
        "May be useful: https://towardsdatascience.com/how-to-create-your-own-question-answering-system-easily-with-python-2ef8abc8eb5\n",
        "\n",
        "Paper on using Wiki to answer questions: https://arxiv.org/pdf/1704.00051.pdf"
      ]
    },
    {
      "cell_type": "code",
      "metadata": {
        "id": "cZLUqzeBsxHU",
        "colab_type": "code",
        "colab": {}
      },
      "source": [
        "query = \"Is Cal Poly a school?\""
      ],
      "execution_count": 0,
      "outputs": []
    },
    {
      "cell_type": "code",
      "metadata": {
        "id": "yFDnUxo3s0FR",
        "colab_type": "code",
        "outputId": "fca3a3b0-b5a1-41d2-b544-1081128154e2",
        "colab": {
          "base_uri": "https://localhost:8080/",
          "height": 119
        }
      },
      "source": [
        "nltk.pos_tag(nltk.word_tokenize(query))"
      ],
      "execution_count": 0,
      "outputs": [
        {
          "output_type": "execute_result",
          "data": {
            "text/plain": [
              "[('Is', 'VBZ'),\n",
              " ('Cal', 'NNP'),\n",
              " ('Poly', 'NNP'),\n",
              " ('a', 'DT'),\n",
              " ('school', 'NN'),\n",
              " ('?', '.')]"
            ]
          },
          "metadata": {
            "tags": []
          },
          "execution_count": 23
        }
      ]
    },
    {
      "cell_type": "code",
      "metadata": {
        "id": "A32OqPqalPD-",
        "colab_type": "code",
        "colab": {}
      },
      "source": [
        "# nltk.help.upenn_tagset()"
      ],
      "execution_count": 0,
      "outputs": []
    },
    {
      "cell_type": "code",
      "metadata": {
        "id": "0kDUT4HEs4AI",
        "colab_type": "code",
        "colab": {}
      },
      "source": [
        ""
      ],
      "execution_count": 0,
      "outputs": []
    }
  ]
}